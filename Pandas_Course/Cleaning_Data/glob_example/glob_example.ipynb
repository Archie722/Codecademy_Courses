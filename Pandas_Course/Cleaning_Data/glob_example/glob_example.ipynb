{
 "cells": [
  {
   "cell_type": "markdown",
   "metadata": {},
   "source": [
    "# Cleaning Data\n",
    "\n",
    "Each row should represent one observation belonging to a particular category/instance so it is easier to work with for analytical purposes as it is granular in nature.\n",
    "\n",
    "Each column is considered a variable with multiple distinct values across which we can derive certain insights and prepare reports from our data set."
   ]
  },
  {
   "cell_type": "code",
   "execution_count": 311,
   "metadata": {},
   "outputs": [],
   "source": [
    "import pandas as pd\n",
    "import glob"
   ]
  },
  {
   "cell_type": "markdown",
   "metadata": {},
   "source": [
    "## Compliling several data files into one DataFrame\n",
    "In order to make one large DataFrame (df) out of several files, assuming they all hold the same kind of information, can use glob."
   ]
  },
  {
   "cell_type": "code",
   "execution_count": 312,
   "metadata": {},
   "outputs": [
    {
     "data": {
      "text/plain": [
       "['exams6.csv',\n",
       " 'exams7.csv',\n",
       " 'exams5.csv',\n",
       " 'exams4.csv',\n",
       " 'exams0.csv',\n",
       " 'exams1.csv',\n",
       " 'exams3.csv',\n",
       " 'exams2.csv',\n",
       " 'exams9.csv',\n",
       " 'exams8.csv']"
      ]
     },
     "execution_count": 312,
     "metadata": {},
     "output_type": "execute_result"
    }
   ],
   "source": [
    "student_files = glob.glob(\"exams*.csv\")#read all file names in current directory starting with exams\n",
    "\n",
    "df_list = []\n",
    "for filename in student_files:\n",
    "  data = pd.read_csv(filename)\n",
    "  df_list.append(data)\n",
    "    \n",
    "students = pd.concat(df_list)\n",
    "\n",
    "student_files"
   ]
  },
  {
   "cell_type": "code",
   "execution_count": 313,
   "metadata": {},
   "outputs": [
    {
     "data": {
      "text/html": [
       "<div>\n",
       "<style scoped>\n",
       "    .dataframe tbody tr th:only-of-type {\n",
       "        vertical-align: middle;\n",
       "    }\n",
       "\n",
       "    .dataframe tbody tr th {\n",
       "        vertical-align: top;\n",
       "    }\n",
       "\n",
       "    .dataframe thead th {\n",
       "        text-align: right;\n",
       "    }\n",
       "</style>\n",
       "<table border=\"1\" class=\"dataframe\">\n",
       "  <thead>\n",
       "    <tr style=\"text-align: right;\">\n",
       "      <th></th>\n",
       "      <th>id</th>\n",
       "      <th>full_name</th>\n",
       "      <th>gender_age</th>\n",
       "      <th>fractions</th>\n",
       "      <th>probability</th>\n",
       "      <th>grade</th>\n",
       "    </tr>\n",
       "  </thead>\n",
       "  <tbody>\n",
       "    <tr>\n",
       "      <th>0</th>\n",
       "      <td>0</td>\n",
       "      <td>Moses Kirckman</td>\n",
       "      <td>M14</td>\n",
       "      <td>69%</td>\n",
       "      <td>89%</td>\n",
       "      <td>11th grade</td>\n",
       "    </tr>\n",
       "    <tr>\n",
       "      <th>1</th>\n",
       "      <td>1</td>\n",
       "      <td>Timofei Strowan</td>\n",
       "      <td>M18</td>\n",
       "      <td>63%</td>\n",
       "      <td>76%</td>\n",
       "      <td>11th grade</td>\n",
       "    </tr>\n",
       "    <tr>\n",
       "      <th>2</th>\n",
       "      <td>2</td>\n",
       "      <td>Silvain Poll</td>\n",
       "      <td>M18</td>\n",
       "      <td>69%</td>\n",
       "      <td>77%</td>\n",
       "      <td>9th grade</td>\n",
       "    </tr>\n",
       "    <tr>\n",
       "      <th>3</th>\n",
       "      <td>3</td>\n",
       "      <td>Lezley Pinxton</td>\n",
       "      <td>M18</td>\n",
       "      <td>NaN</td>\n",
       "      <td>72%</td>\n",
       "      <td>11th grade</td>\n",
       "    </tr>\n",
       "    <tr>\n",
       "      <th>4</th>\n",
       "      <td>4</td>\n",
       "      <td>Bernadene Saunper</td>\n",
       "      <td>F17</td>\n",
       "      <td>72%</td>\n",
       "      <td>84%</td>\n",
       "      <td>11th grade</td>\n",
       "    </tr>\n",
       "  </tbody>\n",
       "</table>\n",
       "</div>"
      ],
      "text/plain": [
       "   id          full_name gender_age fractions probability       grade\n",
       "0   0     Moses Kirckman        M14       69%         89%  11th grade\n",
       "1   1    Timofei Strowan        M18       63%         76%  11th grade\n",
       "2   2       Silvain Poll        M18       69%         77%   9th grade\n",
       "3   3     Lezley Pinxton        M18       NaN         72%  11th grade\n",
       "4   4  Bernadene Saunper        F17       72%         84%  11th grade"
      ]
     },
     "execution_count": 313,
     "metadata": {},
     "output_type": "execute_result"
    }
   ],
   "source": [
    "students.head()"
   ]
  },
  {
   "cell_type": "code",
   "execution_count": 314,
   "metadata": {},
   "outputs": [
    {
     "data": {
      "text/plain": [
       "1000"
      ]
     },
     "execution_count": 314,
     "metadata": {},
     "output_type": "execute_result"
    }
   ],
   "source": [
    "len(students)"
   ]
  },
  {
   "cell_type": "markdown",
   "metadata": {},
   "source": [
    "Print out the column names:"
   ]
  },
  {
   "cell_type": "code",
   "execution_count": 315,
   "metadata": {},
   "outputs": [
    {
     "data": {
      "text/plain": [
       "Index(['id', 'full_name', 'gender_age', 'fractions', 'probability', 'grade'], dtype='object')"
      ]
     },
     "execution_count": 315,
     "metadata": {},
     "output_type": "execute_result"
    }
   ],
   "source": [
    "students.columns"
   ]
  },
  {
   "cell_type": "markdown",
   "metadata": {},
   "source": [
    "### Reorganise the data\n",
    "At the moment the colums are not individual variables and the rows are not specific enough observations for a given instance, in this case the student name.\n"
   ]
  },
  {
   "cell_type": "markdown",
   "metadata": {},
   "source": [
    "There is a column for the scores on the fractions exam, and a column for the scores on the probabilities exam.\n",
    "\n",
    "We want to make each row an observation, so we want to transform this table to look like:\n",
    "\n",
    " |full_name|exam|\n",
    " |-------:|:------|\n",
    "|“First Student”|“Fractions\"|\n",
    "|“First Student”|“Probabilities\"|\n",
    "|“Second Student”|\t“Fractions”|\n",
    "|“Second Student”|\t“Probabilities”|\t\n",
    "\n",
    "Use pd.melt() to create a new table (still called students) that follows this structure.<br/>\n",
    "the syntax is:<br/>\n",
    "```python\n",
    "pd.melt(frame=df,\n",
    "        id_vars['Columns of the old df you want to preserve'],\n",
    "        value_vars=['Columns in old df you want to turn into variables'],\n",
    "        value_name['What to call the column of the new df that stores the values '],\n",
    "        var_name=['What to call the column of the new df that stores the variables\n",
    "```\n",
    "                "
   ]
  },
  {
   "cell_type": "code",
   "execution_count": 316,
   "metadata": {
    "scrolled": false
   },
   "outputs": [
    {
     "data": {
      "text/html": [
       "<div>\n",
       "<style scoped>\n",
       "    .dataframe tbody tr th:only-of-type {\n",
       "        vertical-align: middle;\n",
       "    }\n",
       "\n",
       "    .dataframe tbody tr th {\n",
       "        vertical-align: top;\n",
       "    }\n",
       "\n",
       "    .dataframe thead th {\n",
       "        text-align: right;\n",
       "    }\n",
       "</style>\n",
       "<table border=\"1\" class=\"dataframe\">\n",
       "  <thead>\n",
       "    <tr style=\"text-align: right;\">\n",
       "      <th></th>\n",
       "      <th>full_name</th>\n",
       "      <th>gender_age</th>\n",
       "      <th>grade</th>\n",
       "      <th>exam</th>\n",
       "      <th>score</th>\n",
       "    </tr>\n",
       "  </thead>\n",
       "  <tbody>\n",
       "    <tr>\n",
       "      <th>0</th>\n",
       "      <td>Moses Kirckman</td>\n",
       "      <td>M14</td>\n",
       "      <td>11th grade</td>\n",
       "      <td>fractions</td>\n",
       "      <td>69%</td>\n",
       "    </tr>\n",
       "    <tr>\n",
       "      <th>1</th>\n",
       "      <td>Timofei Strowan</td>\n",
       "      <td>M18</td>\n",
       "      <td>11th grade</td>\n",
       "      <td>fractions</td>\n",
       "      <td>63%</td>\n",
       "    </tr>\n",
       "    <tr>\n",
       "      <th>2</th>\n",
       "      <td>Silvain Poll</td>\n",
       "      <td>M18</td>\n",
       "      <td>9th grade</td>\n",
       "      <td>fractions</td>\n",
       "      <td>69%</td>\n",
       "    </tr>\n",
       "    <tr>\n",
       "      <th>3</th>\n",
       "      <td>Lezley Pinxton</td>\n",
       "      <td>M18</td>\n",
       "      <td>11th grade</td>\n",
       "      <td>fractions</td>\n",
       "      <td>NaN</td>\n",
       "    </tr>\n",
       "    <tr>\n",
       "      <th>4</th>\n",
       "      <td>Bernadene Saunper</td>\n",
       "      <td>F17</td>\n",
       "      <td>11th grade</td>\n",
       "      <td>fractions</td>\n",
       "      <td>72%</td>\n",
       "    </tr>\n",
       "  </tbody>\n",
       "</table>\n",
       "</div>"
      ],
      "text/plain": [
       "           full_name gender_age       grade       exam score\n",
       "0     Moses Kirckman        M14  11th grade  fractions   69%\n",
       "1    Timofei Strowan        M18  11th grade  fractions   63%\n",
       "2       Silvain Poll        M18   9th grade  fractions   69%\n",
       "3     Lezley Pinxton        M18  11th grade  fractions   NaN\n",
       "4  Bernadene Saunper        F17  11th grade  fractions   72%"
      ]
     },
     "execution_count": 316,
     "metadata": {},
     "output_type": "execute_result"
    }
   ],
   "source": [
    "students_melted = pd.melt(frame=students,\n",
    "                          id_vars=['full_name', 'gender_age', 'grade'],\n",
    "                          value_vars=['fractions','probability'],\n",
    "                          value_name=\"score\", var_name=\"exam\")\n",
    "students_melted.head()"
   ]
  },
  {
   "cell_type": "markdown",
   "metadata": {},
   "source": [
    "Now each row has specific information for each instance, so each student will have 2 rows now, one for each exam they took."
   ]
  },
  {
   "cell_type": "code",
   "execution_count": 317,
   "metadata": {},
   "outputs": [
    {
     "data": {
      "text/plain": [
       "probability    1000\n",
       "fractions      1000\n",
       "Name: exam, dtype: int64"
      ]
     },
     "execution_count": 317,
     "metadata": {},
     "output_type": "execute_result"
    }
   ],
   "source": [
    "students_melted.exam.value_counts()"
   ]
  },
  {
   "cell_type": "markdown",
   "metadata": {},
   "source": [
    "As seen above, there are 1000 entries for probability and 1000 entries for fractions, esentially doubleing the data, but now it is more granular and easier to process."
   ]
  },
  {
   "cell_type": "markdown",
   "metadata": {},
   "source": [
    "## Checking for duplicate Rows\n",
    "Now we are going to check for duplicate rows, as you can see in this case, index 11 is a duplicate"
   ]
  },
  {
   "cell_type": "code",
   "execution_count": 318,
   "metadata": {},
   "outputs": [
    {
     "data": {
      "text/html": [
       "<div>\n",
       "<style scoped>\n",
       "    .dataframe tbody tr th:only-of-type {\n",
       "        vertical-align: middle;\n",
       "    }\n",
       "\n",
       "    .dataframe tbody tr th {\n",
       "        vertical-align: top;\n",
       "    }\n",
       "\n",
       "    .dataframe thead th {\n",
       "        text-align: right;\n",
       "    }\n",
       "</style>\n",
       "<table border=\"1\" class=\"dataframe\">\n",
       "  <thead>\n",
       "    <tr style=\"text-align: right;\">\n",
       "      <th></th>\n",
       "      <th>full_name</th>\n",
       "      <th>gender_age</th>\n",
       "      <th>grade</th>\n",
       "      <th>exam</th>\n",
       "      <th>score</th>\n",
       "    </tr>\n",
       "  </thead>\n",
       "  <tbody>\n",
       "    <tr>\n",
       "      <th>0</th>\n",
       "      <td>Moses Kirckman</td>\n",
       "      <td>M14</td>\n",
       "      <td>11th grade</td>\n",
       "      <td>fractions</td>\n",
       "      <td>69%</td>\n",
       "    </tr>\n",
       "    <tr>\n",
       "      <th>1</th>\n",
       "      <td>Timofei Strowan</td>\n",
       "      <td>M18</td>\n",
       "      <td>11th grade</td>\n",
       "      <td>fractions</td>\n",
       "      <td>63%</td>\n",
       "    </tr>\n",
       "    <tr>\n",
       "      <th>2</th>\n",
       "      <td>Silvain Poll</td>\n",
       "      <td>M18</td>\n",
       "      <td>9th grade</td>\n",
       "      <td>fractions</td>\n",
       "      <td>69%</td>\n",
       "    </tr>\n",
       "    <tr>\n",
       "      <th>3</th>\n",
       "      <td>Lezley Pinxton</td>\n",
       "      <td>M18</td>\n",
       "      <td>11th grade</td>\n",
       "      <td>fractions</td>\n",
       "      <td>NaN</td>\n",
       "    </tr>\n",
       "    <tr>\n",
       "      <th>4</th>\n",
       "      <td>Bernadene Saunper</td>\n",
       "      <td>F17</td>\n",
       "      <td>11th grade</td>\n",
       "      <td>fractions</td>\n",
       "      <td>72%</td>\n",
       "    </tr>\n",
       "    <tr>\n",
       "      <th>5</th>\n",
       "      <td>Eldin Spitell</td>\n",
       "      <td>M16</td>\n",
       "      <td>11th grade</td>\n",
       "      <td>fractions</td>\n",
       "      <td>NaN</td>\n",
       "    </tr>\n",
       "    <tr>\n",
       "      <th>6</th>\n",
       "      <td>Christi Lesser</td>\n",
       "      <td>F17</td>\n",
       "      <td>9th grade</td>\n",
       "      <td>fractions</td>\n",
       "      <td>86%</td>\n",
       "    </tr>\n",
       "    <tr>\n",
       "      <th>7</th>\n",
       "      <td>Papageno Rummin</td>\n",
       "      <td>M17</td>\n",
       "      <td>11th grade</td>\n",
       "      <td>fractions</td>\n",
       "      <td>81%</td>\n",
       "    </tr>\n",
       "    <tr>\n",
       "      <th>8</th>\n",
       "      <td>Nissa Wrotchford</td>\n",
       "      <td>F18</td>\n",
       "      <td>12th grade</td>\n",
       "      <td>fractions</td>\n",
       "      <td>68%</td>\n",
       "    </tr>\n",
       "    <tr>\n",
       "      <th>9</th>\n",
       "      <td>Vincent Blumer</td>\n",
       "      <td>M14</td>\n",
       "      <td>11th grade</td>\n",
       "      <td>fractions</td>\n",
       "      <td>59%</td>\n",
       "    </tr>\n",
       "    <tr>\n",
       "      <th>10</th>\n",
       "      <td>Roanne Blomfield</td>\n",
       "      <td>F14</td>\n",
       "      <td>11th grade</td>\n",
       "      <td>fractions</td>\n",
       "      <td>72%</td>\n",
       "    </tr>\n",
       "    <tr>\n",
       "      <th>11</th>\n",
       "      <td>Roanne Blomfield</td>\n",
       "      <td>F14</td>\n",
       "      <td>11th grade</td>\n",
       "      <td>fractions</td>\n",
       "      <td>72%</td>\n",
       "    </tr>\n",
       "    <tr>\n",
       "      <th>12</th>\n",
       "      <td>Lyda Gandrich</td>\n",
       "      <td>F16</td>\n",
       "      <td>12th grade</td>\n",
       "      <td>fractions</td>\n",
       "      <td>71%</td>\n",
       "    </tr>\n",
       "  </tbody>\n",
       "</table>\n",
       "</div>"
      ],
      "text/plain": [
       "            full_name gender_age       grade       exam score\n",
       "0      Moses Kirckman        M14  11th grade  fractions   69%\n",
       "1     Timofei Strowan        M18  11th grade  fractions   63%\n",
       "2        Silvain Poll        M18   9th grade  fractions   69%\n",
       "3      Lezley Pinxton        M18  11th grade  fractions   NaN\n",
       "4   Bernadene Saunper        F17  11th grade  fractions   72%\n",
       "5       Eldin Spitell        M16  11th grade  fractions   NaN\n",
       "6      Christi Lesser        F17   9th grade  fractions   86%\n",
       "7     Papageno Rummin        M17  11th grade  fractions   81%\n",
       "8    Nissa Wrotchford        F18  12th grade  fractions   68%\n",
       "9      Vincent Blumer        M14  11th grade  fractions   59%\n",
       "10   Roanne Blomfield        F14  11th grade  fractions   72%\n",
       "11   Roanne Blomfield        F14  11th grade  fractions   72%\n",
       "12      Lyda Gandrich        F16  12th grade  fractions   71%"
      ]
     },
     "execution_count": 318,
     "metadata": {},
     "output_type": "execute_result"
    }
   ],
   "source": [
    "students_melted.head(13)"
   ]
  },
  {
   "cell_type": "markdown",
   "metadata": {},
   "source": [
    "You can create a series (a column) showing a boolian value if the row contains a duplicate entry or not."
   ]
  },
  {
   "cell_type": "code",
   "execution_count": 319,
   "metadata": {},
   "outputs": [
    {
     "data": {
      "text/plain": [
       "0     False\n",
       "1     False\n",
       "2     False\n",
       "3     False\n",
       "4     False\n",
       "5     False\n",
       "6     False\n",
       "7     False\n",
       "8     False\n",
       "9     False\n",
       "10    False\n",
       "11     True\n",
       "12    False\n",
       "13    False\n",
       "14    False\n",
       "dtype: bool"
      ]
     },
     "execution_count": 319,
     "metadata": {},
     "output_type": "execute_result"
    }
   ],
   "source": [
    "duplicates = students_melted.duplicated()\n",
    "duplicates.head(15)"
   ]
  },
  {
   "cell_type": "markdown",
   "metadata": {},
   "source": [
    "Here we can count how many duplicates it found."
   ]
  },
  {
   "cell_type": "code",
   "execution_count": 320,
   "metadata": {},
   "outputs": [
    {
     "data": {
      "text/plain": [
       "False    1976\n",
       "True       24\n",
       "dtype: int64"
      ]
     },
     "execution_count": 320,
     "metadata": {},
     "output_type": "execute_result"
    }
   ],
   "source": [
    "duplicates.value_counts()"
   ]
  },
  {
   "cell_type": "markdown",
   "metadata": {},
   "source": [
    "now we can make a df with the duplicates dropped. In this case we changed the original variable name."
   ]
  },
  {
   "cell_type": "code",
   "execution_count": 321,
   "metadata": {},
   "outputs": [
    {
     "data": {
      "text/html": [
       "<div>\n",
       "<style scoped>\n",
       "    .dataframe tbody tr th:only-of-type {\n",
       "        vertical-align: middle;\n",
       "    }\n",
       "\n",
       "    .dataframe tbody tr th {\n",
       "        vertical-align: top;\n",
       "    }\n",
       "\n",
       "    .dataframe thead th {\n",
       "        text-align: right;\n",
       "    }\n",
       "</style>\n",
       "<table border=\"1\" class=\"dataframe\">\n",
       "  <thead>\n",
       "    <tr style=\"text-align: right;\">\n",
       "      <th></th>\n",
       "      <th>full_name</th>\n",
       "      <th>gender_age</th>\n",
       "      <th>grade</th>\n",
       "      <th>exam</th>\n",
       "      <th>score</th>\n",
       "    </tr>\n",
       "  </thead>\n",
       "  <tbody>\n",
       "    <tr>\n",
       "      <th>0</th>\n",
       "      <td>Moses Kirckman</td>\n",
       "      <td>M14</td>\n",
       "      <td>11th grade</td>\n",
       "      <td>fractions</td>\n",
       "      <td>69%</td>\n",
       "    </tr>\n",
       "    <tr>\n",
       "      <th>1</th>\n",
       "      <td>Timofei Strowan</td>\n",
       "      <td>M18</td>\n",
       "      <td>11th grade</td>\n",
       "      <td>fractions</td>\n",
       "      <td>63%</td>\n",
       "    </tr>\n",
       "    <tr>\n",
       "      <th>2</th>\n",
       "      <td>Silvain Poll</td>\n",
       "      <td>M18</td>\n",
       "      <td>9th grade</td>\n",
       "      <td>fractions</td>\n",
       "      <td>69%</td>\n",
       "    </tr>\n",
       "    <tr>\n",
       "      <th>3</th>\n",
       "      <td>Lezley Pinxton</td>\n",
       "      <td>M18</td>\n",
       "      <td>11th grade</td>\n",
       "      <td>fractions</td>\n",
       "      <td>NaN</td>\n",
       "    </tr>\n",
       "    <tr>\n",
       "      <th>4</th>\n",
       "      <td>Bernadene Saunper</td>\n",
       "      <td>F17</td>\n",
       "      <td>11th grade</td>\n",
       "      <td>fractions</td>\n",
       "      <td>72%</td>\n",
       "    </tr>\n",
       "    <tr>\n",
       "      <th>5</th>\n",
       "      <td>Eldin Spitell</td>\n",
       "      <td>M16</td>\n",
       "      <td>11th grade</td>\n",
       "      <td>fractions</td>\n",
       "      <td>NaN</td>\n",
       "    </tr>\n",
       "    <tr>\n",
       "      <th>6</th>\n",
       "      <td>Christi Lesser</td>\n",
       "      <td>F17</td>\n",
       "      <td>9th grade</td>\n",
       "      <td>fractions</td>\n",
       "      <td>86%</td>\n",
       "    </tr>\n",
       "    <tr>\n",
       "      <th>7</th>\n",
       "      <td>Papageno Rummin</td>\n",
       "      <td>M17</td>\n",
       "      <td>11th grade</td>\n",
       "      <td>fractions</td>\n",
       "      <td>81%</td>\n",
       "    </tr>\n",
       "    <tr>\n",
       "      <th>8</th>\n",
       "      <td>Nissa Wrotchford</td>\n",
       "      <td>F18</td>\n",
       "      <td>12th grade</td>\n",
       "      <td>fractions</td>\n",
       "      <td>68%</td>\n",
       "    </tr>\n",
       "    <tr>\n",
       "      <th>9</th>\n",
       "      <td>Vincent Blumer</td>\n",
       "      <td>M14</td>\n",
       "      <td>11th grade</td>\n",
       "      <td>fractions</td>\n",
       "      <td>59%</td>\n",
       "    </tr>\n",
       "    <tr>\n",
       "      <th>10</th>\n",
       "      <td>Roanne Blomfield</td>\n",
       "      <td>F14</td>\n",
       "      <td>11th grade</td>\n",
       "      <td>fractions</td>\n",
       "      <td>72%</td>\n",
       "    </tr>\n",
       "    <tr>\n",
       "      <th>12</th>\n",
       "      <td>Lyda Gandrich</td>\n",
       "      <td>F16</td>\n",
       "      <td>12th grade</td>\n",
       "      <td>fractions</td>\n",
       "      <td>71%</td>\n",
       "    </tr>\n",
       "    <tr>\n",
       "      <th>13</th>\n",
       "      <td>Wanda Ivens</td>\n",
       "      <td>F18</td>\n",
       "      <td>10th grade</td>\n",
       "      <td>fractions</td>\n",
       "      <td>85%</td>\n",
       "    </tr>\n",
       "  </tbody>\n",
       "</table>\n",
       "</div>"
      ],
      "text/plain": [
       "            full_name gender_age       grade       exam score\n",
       "0      Moses Kirckman        M14  11th grade  fractions   69%\n",
       "1     Timofei Strowan        M18  11th grade  fractions   63%\n",
       "2        Silvain Poll        M18   9th grade  fractions   69%\n",
       "3      Lezley Pinxton        M18  11th grade  fractions   NaN\n",
       "4   Bernadene Saunper        F17  11th grade  fractions   72%\n",
       "5       Eldin Spitell        M16  11th grade  fractions   NaN\n",
       "6      Christi Lesser        F17   9th grade  fractions   86%\n",
       "7     Papageno Rummin        M17  11th grade  fractions   81%\n",
       "8    Nissa Wrotchford        F18  12th grade  fractions   68%\n",
       "9      Vincent Blumer        M14  11th grade  fractions   59%\n",
       "10   Roanne Blomfield        F14  11th grade  fractions   72%\n",
       "12      Lyda Gandrich        F16  12th grade  fractions   71%\n",
       "13        Wanda Ivens        F18  10th grade  fractions   85%"
      ]
     },
     "execution_count": 321,
     "metadata": {},
     "output_type": "execute_result"
    }
   ],
   "source": [
    "students = students_melted.drop_duplicates()\n",
    "students.head(13)"
   ]
  },
  {
   "cell_type": "markdown",
   "metadata": {},
   "source": [
    "We can see that the duplicate row has been dropped."
   ]
  },
  {
   "cell_type": "code",
   "execution_count": 322,
   "metadata": {},
   "outputs": [
    {
     "data": {
      "text/plain": [
       "0     False\n",
       "1     False\n",
       "2     False\n",
       "3     False\n",
       "4     False\n",
       "5     False\n",
       "6     False\n",
       "7     False\n",
       "8     False\n",
       "9     False\n",
       "10    False\n",
       "12    False\n",
       "13    False\n",
       "14    False\n",
       "15    False\n",
       "dtype: bool"
      ]
     },
     "execution_count": 322,
     "metadata": {},
     "output_type": "execute_result"
    }
   ],
   "source": [
    "duplicates = students.duplicated()\n",
    "duplicates.head(15)"
   ]
  },
  {
   "cell_type": "markdown",
   "metadata": {},
   "source": [
    "When we now do a .value_counts() it finds no duplicates."
   ]
  },
  {
   "cell_type": "code",
   "execution_count": 323,
   "metadata": {
    "scrolled": true
   },
   "outputs": [
    {
     "data": {
      "text/plain": [
       "False    1976\n",
       "dtype: int64"
      ]
     },
     "execution_count": 323,
     "metadata": {},
     "output_type": "execute_result"
    }
   ],
   "source": [
    "duplicates.value_counts()"
   ]
  },
  {
   "cell_type": "markdown",
   "metadata": {},
   "source": [
    "## Seperating combined data from one column into other columns\n",
    "In this case, the column gender_age contains combined information that we may want to split and do analysis on. The format is constant throughout the column so this is east to do."
   ]
  },
  {
   "cell_type": "code",
   "execution_count": 324,
   "metadata": {},
   "outputs": [
    {
     "data": {
      "text/plain": [
       "0    M14\n",
       "1    M18\n",
       "2    M18\n",
       "3    M18\n",
       "4    F17\n",
       "Name: gender_age, dtype: object"
      ]
     },
     "execution_count": 324,
     "metadata": {},
     "output_type": "execute_result"
    }
   ],
   "source": [
    "students['gender_age'].head()"
   ]
  },
  {
   "cell_type": "code",
   "execution_count": 325,
   "metadata": {},
   "outputs": [
    {
     "data": {
      "text/html": [
       "<div>\n",
       "<style scoped>\n",
       "    .dataframe tbody tr th:only-of-type {\n",
       "        vertical-align: middle;\n",
       "    }\n",
       "\n",
       "    .dataframe tbody tr th {\n",
       "        vertical-align: top;\n",
       "    }\n",
       "\n",
       "    .dataframe thead th {\n",
       "        text-align: right;\n",
       "    }\n",
       "</style>\n",
       "<table border=\"1\" class=\"dataframe\">\n",
       "  <thead>\n",
       "    <tr style=\"text-align: right;\">\n",
       "      <th></th>\n",
       "      <th>full_name</th>\n",
       "      <th>gender_age</th>\n",
       "      <th>grade</th>\n",
       "      <th>exam</th>\n",
       "      <th>score</th>\n",
       "    </tr>\n",
       "  </thead>\n",
       "  <tbody>\n",
       "    <tr>\n",
       "      <th>0</th>\n",
       "      <td>Moses Kirckman</td>\n",
       "      <td>M14</td>\n",
       "      <td>11th grade</td>\n",
       "      <td>fractions</td>\n",
       "      <td>69%</td>\n",
       "    </tr>\n",
       "    <tr>\n",
       "      <th>1</th>\n",
       "      <td>Timofei Strowan</td>\n",
       "      <td>M18</td>\n",
       "      <td>11th grade</td>\n",
       "      <td>fractions</td>\n",
       "      <td>63%</td>\n",
       "    </tr>\n",
       "    <tr>\n",
       "      <th>2</th>\n",
       "      <td>Silvain Poll</td>\n",
       "      <td>M18</td>\n",
       "      <td>9th grade</td>\n",
       "      <td>fractions</td>\n",
       "      <td>69%</td>\n",
       "    </tr>\n",
       "    <tr>\n",
       "      <th>3</th>\n",
       "      <td>Lezley Pinxton</td>\n",
       "      <td>M18</td>\n",
       "      <td>11th grade</td>\n",
       "      <td>fractions</td>\n",
       "      <td>NaN</td>\n",
       "    </tr>\n",
       "    <tr>\n",
       "      <th>4</th>\n",
       "      <td>Bernadene Saunper</td>\n",
       "      <td>F17</td>\n",
       "      <td>11th grade</td>\n",
       "      <td>fractions</td>\n",
       "      <td>72%</td>\n",
       "    </tr>\n",
       "  </tbody>\n",
       "</table>\n",
       "</div>"
      ],
      "text/plain": [
       "           full_name gender_age       grade       exam score\n",
       "0     Moses Kirckman        M14  11th grade  fractions   69%\n",
       "1    Timofei Strowan        M18  11th grade  fractions   63%\n",
       "2       Silvain Poll        M18   9th grade  fractions   69%\n",
       "3     Lezley Pinxton        M18  11th grade  fractions   NaN\n",
       "4  Bernadene Saunper        F17  11th grade  fractions   72%"
      ]
     },
     "execution_count": 325,
     "metadata": {},
     "output_type": "execute_result"
    }
   ],
   "source": [
    "students.head()"
   ]
  },
  {
   "cell_type": "markdown",
   "metadata": {},
   "source": [
    "In oreder to create two new colums with the sting slice of the existing column, we will create a new df (split_df) with two columns containing the information we require. Remember the second number of the slice is non inclusive and the first index of a string is 0."
   ]
  },
  {
   "cell_type": "code",
   "execution_count": 326,
   "metadata": {},
   "outputs": [
    {
     "data": {
      "text/html": [
       "<div>\n",
       "<style scoped>\n",
       "    .dataframe tbody tr th:only-of-type {\n",
       "        vertical-align: middle;\n",
       "    }\n",
       "\n",
       "    .dataframe tbody tr th {\n",
       "        vertical-align: top;\n",
       "    }\n",
       "\n",
       "    .dataframe thead th {\n",
       "        text-align: right;\n",
       "    }\n",
       "</style>\n",
       "<table border=\"1\" class=\"dataframe\">\n",
       "  <thead>\n",
       "    <tr style=\"text-align: right;\">\n",
       "      <th></th>\n",
       "      <th>gender</th>\n",
       "      <th>age</th>\n",
       "    </tr>\n",
       "  </thead>\n",
       "  <tbody>\n",
       "    <tr>\n",
       "      <th>0</th>\n",
       "      <td>M</td>\n",
       "      <td>14</td>\n",
       "    </tr>\n",
       "    <tr>\n",
       "      <th>1</th>\n",
       "      <td>M</td>\n",
       "      <td>18</td>\n",
       "    </tr>\n",
       "    <tr>\n",
       "      <th>2</th>\n",
       "      <td>M</td>\n",
       "      <td>18</td>\n",
       "    </tr>\n",
       "    <tr>\n",
       "      <th>3</th>\n",
       "      <td>M</td>\n",
       "      <td>18</td>\n",
       "    </tr>\n",
       "    <tr>\n",
       "      <th>4</th>\n",
       "      <td>F</td>\n",
       "      <td>17</td>\n",
       "    </tr>\n",
       "  </tbody>\n",
       "</table>\n",
       "</div>"
      ],
      "text/plain": [
       "  gender age\n",
       "0      M  14\n",
       "1      M  18\n",
       "2      M  18\n",
       "3      M  18\n",
       "4      F  17"
      ]
     },
     "execution_count": 326,
     "metadata": {},
     "output_type": "execute_result"
    }
   ],
   "source": [
    "split_df = pd.DataFrame()\n",
    "split_df['gender'] = students.gender_age.str[0:1]\n",
    "split_df['age'] = students.gender_age.str[1:3]\n",
    "split_df.head()\n"
   ]
  },
  {
   "cell_type": "markdown",
   "metadata": {},
   "source": [
    "Now we can concatonnate the two df's back togeather. Remember to use axis=1 to join them side by side, otherwise it would try and add it to the bottom!"
   ]
  },
  {
   "cell_type": "code",
   "execution_count": 327,
   "metadata": {},
   "outputs": [
    {
     "data": {
      "text/html": [
       "<div>\n",
       "<style scoped>\n",
       "    .dataframe tbody tr th:only-of-type {\n",
       "        vertical-align: middle;\n",
       "    }\n",
       "\n",
       "    .dataframe tbody tr th {\n",
       "        vertical-align: top;\n",
       "    }\n",
       "\n",
       "    .dataframe thead th {\n",
       "        text-align: right;\n",
       "    }\n",
       "</style>\n",
       "<table border=\"1\" class=\"dataframe\">\n",
       "  <thead>\n",
       "    <tr style=\"text-align: right;\">\n",
       "      <th></th>\n",
       "      <th>full_name</th>\n",
       "      <th>gender_age</th>\n",
       "      <th>grade</th>\n",
       "      <th>exam</th>\n",
       "      <th>score</th>\n",
       "      <th>gender</th>\n",
       "      <th>age</th>\n",
       "    </tr>\n",
       "  </thead>\n",
       "  <tbody>\n",
       "    <tr>\n",
       "      <th>0</th>\n",
       "      <td>Moses Kirckman</td>\n",
       "      <td>M14</td>\n",
       "      <td>11th grade</td>\n",
       "      <td>fractions</td>\n",
       "      <td>69%</td>\n",
       "      <td>M</td>\n",
       "      <td>14</td>\n",
       "    </tr>\n",
       "    <tr>\n",
       "      <th>1</th>\n",
       "      <td>Timofei Strowan</td>\n",
       "      <td>M18</td>\n",
       "      <td>11th grade</td>\n",
       "      <td>fractions</td>\n",
       "      <td>63%</td>\n",
       "      <td>M</td>\n",
       "      <td>18</td>\n",
       "    </tr>\n",
       "    <tr>\n",
       "      <th>2</th>\n",
       "      <td>Silvain Poll</td>\n",
       "      <td>M18</td>\n",
       "      <td>9th grade</td>\n",
       "      <td>fractions</td>\n",
       "      <td>69%</td>\n",
       "      <td>M</td>\n",
       "      <td>18</td>\n",
       "    </tr>\n",
       "    <tr>\n",
       "      <th>3</th>\n",
       "      <td>Lezley Pinxton</td>\n",
       "      <td>M18</td>\n",
       "      <td>11th grade</td>\n",
       "      <td>fractions</td>\n",
       "      <td>NaN</td>\n",
       "      <td>M</td>\n",
       "      <td>18</td>\n",
       "    </tr>\n",
       "    <tr>\n",
       "      <th>4</th>\n",
       "      <td>Bernadene Saunper</td>\n",
       "      <td>F17</td>\n",
       "      <td>11th grade</td>\n",
       "      <td>fractions</td>\n",
       "      <td>72%</td>\n",
       "      <td>F</td>\n",
       "      <td>17</td>\n",
       "    </tr>\n",
       "  </tbody>\n",
       "</table>\n",
       "</div>"
      ],
      "text/plain": [
       "           full_name gender_age       grade       exam score gender age\n",
       "0     Moses Kirckman        M14  11th grade  fractions   69%      M  14\n",
       "1    Timofei Strowan        M18  11th grade  fractions   63%      M  18\n",
       "2       Silvain Poll        M18   9th grade  fractions   69%      M  18\n",
       "3     Lezley Pinxton        M18  11th grade  fractions   NaN      M  18\n",
       "4  Bernadene Saunper        F17  11th grade  fractions   72%      F  17"
      ]
     },
     "execution_count": 327,
     "metadata": {},
     "output_type": "execute_result"
    }
   ],
   "source": [
    "students = pd.concat([students, split_df,], axis=1)\n",
    "students.head()"
   ]
  },
  {
   "cell_type": "markdown",
   "metadata": {},
   "source": [
    "Now we can ammend the df so that it contains the coulumns that we want:"
   ]
  },
  {
   "cell_type": "code",
   "execution_count": 328,
   "metadata": {},
   "outputs": [
    {
     "data": {
      "text/html": [
       "<div>\n",
       "<style scoped>\n",
       "    .dataframe tbody tr th:only-of-type {\n",
       "        vertical-align: middle;\n",
       "    }\n",
       "\n",
       "    .dataframe tbody tr th {\n",
       "        vertical-align: top;\n",
       "    }\n",
       "\n",
       "    .dataframe thead th {\n",
       "        text-align: right;\n",
       "    }\n",
       "</style>\n",
       "<table border=\"1\" class=\"dataframe\">\n",
       "  <thead>\n",
       "    <tr style=\"text-align: right;\">\n",
       "      <th></th>\n",
       "      <th>full_name</th>\n",
       "      <th>grade</th>\n",
       "      <th>exam</th>\n",
       "      <th>score</th>\n",
       "      <th>gender</th>\n",
       "      <th>age</th>\n",
       "    </tr>\n",
       "  </thead>\n",
       "  <tbody>\n",
       "    <tr>\n",
       "      <th>0</th>\n",
       "      <td>Moses Kirckman</td>\n",
       "      <td>11th grade</td>\n",
       "      <td>fractions</td>\n",
       "      <td>69%</td>\n",
       "      <td>M</td>\n",
       "      <td>14</td>\n",
       "    </tr>\n",
       "    <tr>\n",
       "      <th>1</th>\n",
       "      <td>Timofei Strowan</td>\n",
       "      <td>11th grade</td>\n",
       "      <td>fractions</td>\n",
       "      <td>63%</td>\n",
       "      <td>M</td>\n",
       "      <td>18</td>\n",
       "    </tr>\n",
       "    <tr>\n",
       "      <th>2</th>\n",
       "      <td>Silvain Poll</td>\n",
       "      <td>9th grade</td>\n",
       "      <td>fractions</td>\n",
       "      <td>69%</td>\n",
       "      <td>M</td>\n",
       "      <td>18</td>\n",
       "    </tr>\n",
       "    <tr>\n",
       "      <th>3</th>\n",
       "      <td>Lezley Pinxton</td>\n",
       "      <td>11th grade</td>\n",
       "      <td>fractions</td>\n",
       "      <td>NaN</td>\n",
       "      <td>M</td>\n",
       "      <td>18</td>\n",
       "    </tr>\n",
       "    <tr>\n",
       "      <th>4</th>\n",
       "      <td>Bernadene Saunper</td>\n",
       "      <td>11th grade</td>\n",
       "      <td>fractions</td>\n",
       "      <td>72%</td>\n",
       "      <td>F</td>\n",
       "      <td>17</td>\n",
       "    </tr>\n",
       "  </tbody>\n",
       "</table>\n",
       "</div>"
      ],
      "text/plain": [
       "           full_name       grade       exam score gender age\n",
       "0     Moses Kirckman  11th grade  fractions   69%      M  14\n",
       "1    Timofei Strowan  11th grade  fractions   63%      M  18\n",
       "2       Silvain Poll   9th grade  fractions   69%      M  18\n",
       "3     Lezley Pinxton  11th grade  fractions   NaN      M  18\n",
       "4  Bernadene Saunper  11th grade  fractions   72%      F  17"
      ]
     },
     "execution_count": 328,
     "metadata": {},
     "output_type": "execute_result"
    }
   ],
   "source": [
    "students = students[['full_name', 'grade', 'exam', 'score', 'gender', 'age']]\n",
    "students.head()"
   ]
  },
  {
   "cell_type": "markdown",
   "metadata": {},
   "source": [
    "We can also split columns on cirtain characters. In this case we want to split full_name on the space into two columns for first and last name. This puts the split string into a list."
   ]
  },
  {
   "cell_type": "code",
   "execution_count": 329,
   "metadata": {},
   "outputs": [
    {
     "data": {
      "text/plain": [
       "0       [Moses, Kirckman]\n",
       "1      [Timofei, Strowan]\n",
       "2         [Silvain, Poll]\n",
       "3       [Lezley, Pinxton]\n",
       "4    [Bernadene, Saunper]\n",
       "Name: full_name, dtype: object"
      ]
     },
     "execution_count": 329,
     "metadata": {},
     "output_type": "execute_result"
    }
   ],
   "source": [
    "name_split = students['full_name'].str.split(\" \")\n",
    "name_split.head()"
   ]
  },
  {
   "cell_type": "markdown",
   "metadata": {},
   "source": [
    "We can then access the index of the list and make it equal to a new column name in our students df."
   ]
  },
  {
   "cell_type": "code",
   "execution_count": 330,
   "metadata": {},
   "outputs": [
    {
     "data": {
      "text/html": [
       "<div>\n",
       "<style scoped>\n",
       "    .dataframe tbody tr th:only-of-type {\n",
       "        vertical-align: middle;\n",
       "    }\n",
       "\n",
       "    .dataframe tbody tr th {\n",
       "        vertical-align: top;\n",
       "    }\n",
       "\n",
       "    .dataframe thead th {\n",
       "        text-align: right;\n",
       "    }\n",
       "</style>\n",
       "<table border=\"1\" class=\"dataframe\">\n",
       "  <thead>\n",
       "    <tr style=\"text-align: right;\">\n",
       "      <th></th>\n",
       "      <th>full_name</th>\n",
       "      <th>grade</th>\n",
       "      <th>exam</th>\n",
       "      <th>score</th>\n",
       "      <th>gender</th>\n",
       "      <th>age</th>\n",
       "      <th>first_name</th>\n",
       "      <th>last_name</th>\n",
       "    </tr>\n",
       "  </thead>\n",
       "  <tbody>\n",
       "    <tr>\n",
       "      <th>0</th>\n",
       "      <td>Moses Kirckman</td>\n",
       "      <td>11th grade</td>\n",
       "      <td>fractions</td>\n",
       "      <td>69%</td>\n",
       "      <td>M</td>\n",
       "      <td>14</td>\n",
       "      <td>Moses</td>\n",
       "      <td>Kirckman</td>\n",
       "    </tr>\n",
       "    <tr>\n",
       "      <th>1</th>\n",
       "      <td>Timofei Strowan</td>\n",
       "      <td>11th grade</td>\n",
       "      <td>fractions</td>\n",
       "      <td>63%</td>\n",
       "      <td>M</td>\n",
       "      <td>18</td>\n",
       "      <td>Timofei</td>\n",
       "      <td>Strowan</td>\n",
       "    </tr>\n",
       "    <tr>\n",
       "      <th>2</th>\n",
       "      <td>Silvain Poll</td>\n",
       "      <td>9th grade</td>\n",
       "      <td>fractions</td>\n",
       "      <td>69%</td>\n",
       "      <td>M</td>\n",
       "      <td>18</td>\n",
       "      <td>Silvain</td>\n",
       "      <td>Poll</td>\n",
       "    </tr>\n",
       "    <tr>\n",
       "      <th>3</th>\n",
       "      <td>Lezley Pinxton</td>\n",
       "      <td>11th grade</td>\n",
       "      <td>fractions</td>\n",
       "      <td>NaN</td>\n",
       "      <td>M</td>\n",
       "      <td>18</td>\n",
       "      <td>Lezley</td>\n",
       "      <td>Pinxton</td>\n",
       "    </tr>\n",
       "    <tr>\n",
       "      <th>4</th>\n",
       "      <td>Bernadene Saunper</td>\n",
       "      <td>11th grade</td>\n",
       "      <td>fractions</td>\n",
       "      <td>72%</td>\n",
       "      <td>F</td>\n",
       "      <td>17</td>\n",
       "      <td>Bernadene</td>\n",
       "      <td>Saunper</td>\n",
       "    </tr>\n",
       "  </tbody>\n",
       "</table>\n",
       "</div>"
      ],
      "text/plain": [
       "           full_name       grade       exam score gender age first_name  \\\n",
       "0     Moses Kirckman  11th grade  fractions   69%      M  14      Moses   \n",
       "1    Timofei Strowan  11th grade  fractions   63%      M  18    Timofei   \n",
       "2       Silvain Poll   9th grade  fractions   69%      M  18    Silvain   \n",
       "3     Lezley Pinxton  11th grade  fractions   NaN      M  18     Lezley   \n",
       "4  Bernadene Saunper  11th grade  fractions   72%      F  17  Bernadene   \n",
       "\n",
       "  last_name  \n",
       "0  Kirckman  \n",
       "1   Strowan  \n",
       "2      Poll  \n",
       "3   Pinxton  \n",
       "4   Saunper  "
      ]
     },
     "execution_count": 330,
     "metadata": {},
     "output_type": "execute_result"
    }
   ],
   "source": [
    "students['first_name'] = name_split.str.get(0)\n",
    "students['last_name'] = name_split.str.get(1)\n",
    "students.head()"
   ]
  },
  {
   "cell_type": "markdown",
   "metadata": {},
   "source": [
    "## Looking at Data Types\n",
    "Sometimes the Data might not be in the format of how we want to work with it. For example numbers may actually be strings or objects etc. We can view the data type by df.dtypes. In the example below the data types are objects, we want strings and integers."
   ]
  },
  {
   "cell_type": "code",
   "execution_count": 331,
   "metadata": {},
   "outputs": [
    {
     "data": {
      "text/plain": [
       "full_name     object\n",
       "grade         object\n",
       "exam          object\n",
       "score         object\n",
       "gender        object\n",
       "age           object\n",
       "first_name    object\n",
       "last_name     object\n",
       "dtype: object"
      ]
     },
     "execution_count": 331,
     "metadata": {},
     "output_type": "execute_result"
    }
   ],
   "source": [
    "students.dtypes"
   ]
  },
  {
   "cell_type": "markdown",
   "metadata": {},
   "source": [
    "As you can see, methods like 'mean' (calc the average) will not work properly."
   ]
  },
  {
   "cell_type": "code",
   "execution_count": 332,
   "metadata": {},
   "outputs": [
    {
     "data": {
      "text/plain": [
       "<bound method Series.mean of 0       69%\n",
       "1       63%\n",
       "2       69%\n",
       "3       NaN\n",
       "4       72%\n",
       "5       NaN\n",
       "6       86%\n",
       "7       81%\n",
       "8       68%\n",
       "9       59%\n",
       "10      72%\n",
       "12      71%\n",
       "13      85%\n",
       "14      69%\n",
       "15      77%\n",
       "16      76%\n",
       "18      NaN\n",
       "19      86%\n",
       "20      72%\n",
       "21      81%\n",
       "22      78%\n",
       "23      NaN\n",
       "24      67%\n",
       "25      70%\n",
       "26      61%\n",
       "27      74%\n",
       "28      76%\n",
       "29      77%\n",
       "30      68%\n",
       "31      71%\n",
       "       ... \n",
       "1970    80%\n",
       "1971    75%\n",
       "1972    81%\n",
       "1973    78%\n",
       "1974    85%\n",
       "1975    80%\n",
       "1976    86%\n",
       "1977    86%\n",
       "1978    91%\n",
       "1979    79%\n",
       "1980    72%\n",
       "1981    79%\n",
       "1982    88%\n",
       "1983    87%\n",
       "1984    83%\n",
       "1985    76%\n",
       "1986    77%\n",
       "1987    82%\n",
       "1988    90%\n",
       "1989    77%\n",
       "1990    66%\n",
       "1991    79%\n",
       "1992    76%\n",
       "1993    79%\n",
       "1994    91%\n",
       "1995    69%\n",
       "1996    86%\n",
       "1997    82%\n",
       "1998    84%\n",
       "1999    91%\n",
       "Name: score, Length: 1976, dtype: object>"
      ]
     },
     "execution_count": 332,
     "metadata": {},
     "output_type": "execute_result"
    }
   ],
   "source": [
    "students.score.mean"
   ]
  },
  {
   "cell_type": "markdown",
   "metadata": {},
   "source": [
    "First we can remove the % sign using Regex:"
   ]
  },
  {
   "cell_type": "code",
   "execution_count": 333,
   "metadata": {},
   "outputs": [
    {
     "data": {
      "text/plain": [
       "0     69\n",
       "1     63\n",
       "2     69\n",
       "3    NaN\n",
       "4     72\n",
       "Name: score, dtype: object"
      ]
     },
     "execution_count": 333,
     "metadata": {},
     "output_type": "execute_result"
    }
   ],
   "source": [
    "students.score = students.score.replace('[\\%]', '',regex=True)\n",
    "students.score.head() "
   ]
  },
  {
   "cell_type": "markdown",
   "metadata": {},
   "source": [
    "Then we can use pd.to_numeric(the column we want to change to a numeric value). In this case we change score to a float as it is a decimal number."
   ]
  },
  {
   "cell_type": "code",
   "execution_count": 334,
   "metadata": {},
   "outputs": [
    {
     "data": {
      "text/plain": [
       "full_name      object\n",
       "grade          object\n",
       "exam           object\n",
       "score         float64\n",
       "gender         object\n",
       "age            object\n",
       "first_name     object\n",
       "last_name      object\n",
       "dtype: object"
      ]
     },
     "execution_count": 334,
     "metadata": {},
     "output_type": "execute_result"
    }
   ],
   "source": [
    "students.score = pd.to_numeric(students.score)\n",
    "students.dtypes"
   ]
  },
  {
   "cell_type": "markdown",
   "metadata": {},
   "source": [
    "## More string parsing\n",
    "Sometimes we want to do analysis on numbers that are hidden within string values. We can use regex to extract this numerical data from the strings they are trapped in. In this example we want the grade number separate. This only works if the format is the same in each row."
   ]
  },
  {
   "cell_type": "code",
   "execution_count": 335,
   "metadata": {},
   "outputs": [
    {
     "data": {
      "text/plain": [
       "0    11th grade\n",
       "1    11th grade\n",
       "2     9th grade\n",
       "3    11th grade\n",
       "4    11th grade\n",
       "Name: grade, dtype: object"
      ]
     },
     "execution_count": 335,
     "metadata": {},
     "output_type": "execute_result"
    }
   ],
   "source": [
    "students.grade.head()"
   ]
  },
  {
   "cell_type": "markdown",
   "metadata": {},
   "source": [
    "First we will creat a variable containing the split string in different columns using Regex."
   ]
  },
  {
   "cell_type": "code",
   "execution_count": 336,
   "metadata": {},
   "outputs": [
    {
     "data": {
      "text/html": [
       "<div>\n",
       "<style scoped>\n",
       "    .dataframe tbody tr th:only-of-type {\n",
       "        vertical-align: middle;\n",
       "    }\n",
       "\n",
       "    .dataframe tbody tr th {\n",
       "        vertical-align: top;\n",
       "    }\n",
       "\n",
       "    .dataframe thead th {\n",
       "        text-align: right;\n",
       "    }\n",
       "</style>\n",
       "<table border=\"1\" class=\"dataframe\">\n",
       "  <thead>\n",
       "    <tr style=\"text-align: right;\">\n",
       "      <th></th>\n",
       "      <th>0</th>\n",
       "      <th>1</th>\n",
       "      <th>2</th>\n",
       "    </tr>\n",
       "  </thead>\n",
       "  <tbody>\n",
       "    <tr>\n",
       "      <th>0</th>\n",
       "      <td></td>\n",
       "      <td>11</td>\n",
       "      <td>th grade</td>\n",
       "    </tr>\n",
       "    <tr>\n",
       "      <th>1</th>\n",
       "      <td></td>\n",
       "      <td>11</td>\n",
       "      <td>th grade</td>\n",
       "    </tr>\n",
       "    <tr>\n",
       "      <th>2</th>\n",
       "      <td></td>\n",
       "      <td>9</td>\n",
       "      <td>th grade</td>\n",
       "    </tr>\n",
       "    <tr>\n",
       "      <th>3</th>\n",
       "      <td></td>\n",
       "      <td>11</td>\n",
       "      <td>th grade</td>\n",
       "    </tr>\n",
       "    <tr>\n",
       "      <th>4</th>\n",
       "      <td></td>\n",
       "      <td>11</td>\n",
       "      <td>th grade</td>\n",
       "    </tr>\n",
       "  </tbody>\n",
       "</table>\n",
       "</div>"
      ],
      "text/plain": [
       "  0   1         2\n",
       "0    11  th grade\n",
       "1    11  th grade\n",
       "2     9  th grade\n",
       "3    11  th grade\n",
       "4    11  th grade"
      ]
     },
     "execution_count": 336,
     "metadata": {},
     "output_type": "execute_result"
    }
   ],
   "source": [
    "split_df = students.grade.str.split('(\\d+)', expand=True)\n",
    "split_df.head()"
   ]
  },
  {
   "cell_type": "markdown",
   "metadata": {},
   "source": [
    "We will the set the grade column in the students df to the numeric version of the split_df of column 1."
   ]
  },
  {
   "cell_type": "code",
   "execution_count": 337,
   "metadata": {},
   "outputs": [
    {
     "data": {
      "text/plain": [
       "0    11\n",
       "1    11\n",
       "2     9\n",
       "3    11\n",
       "4    11\n",
       "Name: grade, dtype: int64"
      ]
     },
     "execution_count": 337,
     "metadata": {},
     "output_type": "execute_result"
    }
   ],
   "source": [
    "students.grade = pd.to_numeric(split_df[1])\n",
    "students.grade.head()"
   ]
  },
  {
   "cell_type": "markdown",
   "metadata": {},
   "source": [
    "The data type has changed to int as they are all whole numbers."
   ]
  },
  {
   "cell_type": "code",
   "execution_count": 338,
   "metadata": {},
   "outputs": [
    {
     "data": {
      "text/plain": [
       "full_name      object\n",
       "grade           int64\n",
       "exam           object\n",
       "score         float64\n",
       "gender         object\n",
       "age            object\n",
       "first_name     object\n",
       "last_name      object\n",
       "dtype: object"
      ]
     },
     "execution_count": 338,
     "metadata": {},
     "output_type": "execute_result"
    }
   ],
   "source": [
    "students.dtypes"
   ]
  },
  {
   "cell_type": "markdown",
   "metadata": {},
   "source": [
    "Viewing the whole table again we can see the value of the grade column is now just the number."
   ]
  },
  {
   "cell_type": "code",
   "execution_count": 339,
   "metadata": {},
   "outputs": [
    {
     "data": {
      "text/html": [
       "<div>\n",
       "<style scoped>\n",
       "    .dataframe tbody tr th:only-of-type {\n",
       "        vertical-align: middle;\n",
       "    }\n",
       "\n",
       "    .dataframe tbody tr th {\n",
       "        vertical-align: top;\n",
       "    }\n",
       "\n",
       "    .dataframe thead th {\n",
       "        text-align: right;\n",
       "    }\n",
       "</style>\n",
       "<table border=\"1\" class=\"dataframe\">\n",
       "  <thead>\n",
       "    <tr style=\"text-align: right;\">\n",
       "      <th></th>\n",
       "      <th>full_name</th>\n",
       "      <th>grade</th>\n",
       "      <th>exam</th>\n",
       "      <th>score</th>\n",
       "      <th>gender</th>\n",
       "      <th>age</th>\n",
       "      <th>first_name</th>\n",
       "      <th>last_name</th>\n",
       "    </tr>\n",
       "  </thead>\n",
       "  <tbody>\n",
       "    <tr>\n",
       "      <th>0</th>\n",
       "      <td>Moses Kirckman</td>\n",
       "      <td>11</td>\n",
       "      <td>fractions</td>\n",
       "      <td>69.0</td>\n",
       "      <td>M</td>\n",
       "      <td>14</td>\n",
       "      <td>Moses</td>\n",
       "      <td>Kirckman</td>\n",
       "    </tr>\n",
       "    <tr>\n",
       "      <th>1</th>\n",
       "      <td>Timofei Strowan</td>\n",
       "      <td>11</td>\n",
       "      <td>fractions</td>\n",
       "      <td>63.0</td>\n",
       "      <td>M</td>\n",
       "      <td>18</td>\n",
       "      <td>Timofei</td>\n",
       "      <td>Strowan</td>\n",
       "    </tr>\n",
       "    <tr>\n",
       "      <th>2</th>\n",
       "      <td>Silvain Poll</td>\n",
       "      <td>9</td>\n",
       "      <td>fractions</td>\n",
       "      <td>69.0</td>\n",
       "      <td>M</td>\n",
       "      <td>18</td>\n",
       "      <td>Silvain</td>\n",
       "      <td>Poll</td>\n",
       "    </tr>\n",
       "    <tr>\n",
       "      <th>3</th>\n",
       "      <td>Lezley Pinxton</td>\n",
       "      <td>11</td>\n",
       "      <td>fractions</td>\n",
       "      <td>NaN</td>\n",
       "      <td>M</td>\n",
       "      <td>18</td>\n",
       "      <td>Lezley</td>\n",
       "      <td>Pinxton</td>\n",
       "    </tr>\n",
       "    <tr>\n",
       "      <th>4</th>\n",
       "      <td>Bernadene Saunper</td>\n",
       "      <td>11</td>\n",
       "      <td>fractions</td>\n",
       "      <td>72.0</td>\n",
       "      <td>F</td>\n",
       "      <td>17</td>\n",
       "      <td>Bernadene</td>\n",
       "      <td>Saunper</td>\n",
       "    </tr>\n",
       "  </tbody>\n",
       "</table>\n",
       "</div>"
      ],
      "text/plain": [
       "           full_name  grade       exam  score gender age first_name last_name\n",
       "0     Moses Kirckman     11  fractions   69.0      M  14      Moses  Kirckman\n",
       "1    Timofei Strowan     11  fractions   63.0      M  18    Timofei   Strowan\n",
       "2       Silvain Poll      9  fractions   69.0      M  18    Silvain      Poll\n",
       "3     Lezley Pinxton     11  fractions    NaN      M  18     Lezley   Pinxton\n",
       "4  Bernadene Saunper     11  fractions   72.0      F  17  Bernadene   Saunper"
      ]
     },
     "execution_count": 339,
     "metadata": {},
     "output_type": "execute_result"
    }
   ],
   "source": [
    "students.head()"
   ]
  },
  {
   "cell_type": "markdown",
   "metadata": {},
   "source": [
    "## Missing values\n",
    "We often have data with missing elements, as a result of a problem with the data collection process or errors in the way the data was stored. The missing elements normally show up as NaN (or Not a Number). Some calculations we do will just skip the NaN values, but some calculations or visualizations we try to perform will break when a NaN is encountered. Most of the time, we use one of two methods to deal with missing values.\n",
    "\n",
    "Method 1: Drop all of the rows with a missing value<br/>\n",
    "```df = df.dropna()```<br/>\n",
    "Method 2: Fill the missing values with the mean of the column, or with some other aggregate value."
   ]
  },
  {
   "cell_type": "markdown",
   "metadata": {},
   "source": [
    "We can see there are NaN values in the score column."
   ]
  },
  {
   "cell_type": "code",
   "execution_count": 340,
   "metadata": {},
   "outputs": [
    {
     "data": {
      "text/plain": [
       "0    69.0\n",
       "1    63.0\n",
       "2    69.0\n",
       "3     NaN\n",
       "4    72.0\n",
       "5     NaN\n",
       "6    86.0\n",
       "7    81.0\n",
       "8    68.0\n",
       "9    59.0\n",
       "Name: score, dtype: float64"
      ]
     },
     "execution_count": 340,
     "metadata": {},
     "output_type": "execute_result"
    }
   ],
   "source": [
    "students.score.head(10)"
   ]
  },
  {
   "cell_type": "markdown",
   "metadata": {},
   "source": [
    "This is what we get when we calculate the mean value of the scores."
   ]
  },
  {
   "cell_type": "code",
   "execution_count": 341,
   "metadata": {},
   "outputs": [
    {
     "data": {
      "text/plain": [
       "77.69657422512235"
      ]
     },
     "execution_count": 341,
     "metadata": {},
     "output_type": "execute_result"
    }
   ],
   "source": [
    "score_mean = students.score.mean()\n",
    "score_mean"
   ]
  },
  {
   "cell_type": "markdown",
   "metadata": {},
   "source": [
    "We will assume that if the value is NaN then the student missed the exam and we will set the score to 0."
   ]
  },
  {
   "cell_type": "code",
   "execution_count": 342,
   "metadata": {},
   "outputs": [
    {
     "data": {
      "text/plain": [
       "0    69.0\n",
       "1    63.0\n",
       "2    69.0\n",
       "3     0.0\n",
       "4    72.0\n",
       "5     0.0\n",
       "6    86.0\n",
       "7    81.0\n",
       "8    68.0\n",
       "9    59.0\n",
       "Name: score, dtype: float64"
      ]
     },
     "execution_count": 342,
     "metadata": {},
     "output_type": "execute_result"
    }
   ],
   "source": [
    "students.score = students.score.fillna(0)\n",
    "students.score.head(10)"
   ]
  },
  {
   "cell_type": "markdown",
   "metadata": {},
   "source": [
    "Now the mean is more accurate"
   ]
  },
  {
   "cell_type": "code",
   "execution_count": 344,
   "metadata": {},
   "outputs": [
    {
     "data": {
      "text/plain": [
       "72.30971659919028"
      ]
     },
     "execution_count": 344,
     "metadata": {},
     "output_type": "execute_result"
    }
   ],
   "source": [
    "score_mean_2 = students.score.mean()\n",
    "score_mean_2"
   ]
  }
 ],
 "metadata": {
  "kernelspec": {
   "display_name": "Python 3",
   "language": "python",
   "name": "python3"
  },
  "language_info": {
   "codemirror_mode": {
    "name": "ipython",
    "version": 3
   },
   "file_extension": ".py",
   "mimetype": "text/x-python",
   "name": "python",
   "nbconvert_exporter": "python",
   "pygments_lexer": "ipython3",
   "version": "3.7.3"
  }
 },
 "nbformat": 4,
 "nbformat_minor": 2
}
