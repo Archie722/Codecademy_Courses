{
 "cells": [
  {
   "cell_type": "markdown",
   "metadata": {},
   "source": [
    "### Cleaning Data\n",
    "\n",
    "Each row should represent one observation belonging to a particular category/instance so it is easier to work with for analytical purposes as it is granular in nature.\n",
    "\n",
    "Each column is considered a variable with multiple distinct values across which we can derive certain insights and prepare reports from our data set."
   ]
  },
  {
   "cell_type": "code",
   "execution_count": 59,
   "metadata": {},
   "outputs": [],
   "source": [
    "import pandas as pd\n",
    "import glob"
   ]
  },
  {
   "cell_type": "markdown",
   "metadata": {},
   "source": [
    "In order to make one large DF out of several files, assuming they all hold the same kind of information, can use glob."
   ]
  },
  {
   "cell_type": "code",
   "execution_count": 60,
   "metadata": {},
   "outputs": [
    {
     "data": {
      "text/plain": [
       "['exams6.csv',\n",
       " 'exams7.csv',\n",
       " 'exams5.csv',\n",
       " 'exams4.csv',\n",
       " 'exams0.csv',\n",
       " 'exams1.csv',\n",
       " 'exams3.csv',\n",
       " 'exams2.csv',\n",
       " 'exams9.csv',\n",
       " 'exams8.csv']"
      ]
     },
     "execution_count": 60,
     "metadata": {},
     "output_type": "execute_result"
    }
   ],
   "source": [
    "student_files = glob.glob(\"exams*.csv\")#read all file names in current directory starting with exams\n",
    "\n",
    "df_list = []\n",
    "for filename in student_files:\n",
    "  data = pd.read_csv(filename)\n",
    "  df_list.append(data)\n",
    "    \n",
    "students = pd.concat(df_list)\n",
    "\n",
    "student_files"
   ]
  },
  {
   "cell_type": "code",
   "execution_count": 61,
   "metadata": {},
   "outputs": [
    {
     "data": {
      "text/html": [
       "<div>\n",
       "<style scoped>\n",
       "    .dataframe tbody tr th:only-of-type {\n",
       "        vertical-align: middle;\n",
       "    }\n",
       "\n",
       "    .dataframe tbody tr th {\n",
       "        vertical-align: top;\n",
       "    }\n",
       "\n",
       "    .dataframe thead th {\n",
       "        text-align: right;\n",
       "    }\n",
       "</style>\n",
       "<table border=\"1\" class=\"dataframe\">\n",
       "  <thead>\n",
       "    <tr style=\"text-align: right;\">\n",
       "      <th></th>\n",
       "      <th>id</th>\n",
       "      <th>full_name</th>\n",
       "      <th>gender_age</th>\n",
       "      <th>fractions</th>\n",
       "      <th>probability</th>\n",
       "      <th>grade</th>\n",
       "    </tr>\n",
       "  </thead>\n",
       "  <tbody>\n",
       "    <tr>\n",
       "      <th>0</th>\n",
       "      <td>0</td>\n",
       "      <td>Moses Kirckman</td>\n",
       "      <td>M14</td>\n",
       "      <td>69%</td>\n",
       "      <td>89%</td>\n",
       "      <td>11th grade</td>\n",
       "    </tr>\n",
       "    <tr>\n",
       "      <th>1</th>\n",
       "      <td>1</td>\n",
       "      <td>Timofei Strowan</td>\n",
       "      <td>M18</td>\n",
       "      <td>63%</td>\n",
       "      <td>76%</td>\n",
       "      <td>11th grade</td>\n",
       "    </tr>\n",
       "    <tr>\n",
       "      <th>2</th>\n",
       "      <td>2</td>\n",
       "      <td>Silvain Poll</td>\n",
       "      <td>M18</td>\n",
       "      <td>69%</td>\n",
       "      <td>77%</td>\n",
       "      <td>9th grade</td>\n",
       "    </tr>\n",
       "    <tr>\n",
       "      <th>3</th>\n",
       "      <td>3</td>\n",
       "      <td>Lezley Pinxton</td>\n",
       "      <td>M18</td>\n",
       "      <td>NaN</td>\n",
       "      <td>72%</td>\n",
       "      <td>11th grade</td>\n",
       "    </tr>\n",
       "    <tr>\n",
       "      <th>4</th>\n",
       "      <td>4</td>\n",
       "      <td>Bernadene Saunper</td>\n",
       "      <td>F17</td>\n",
       "      <td>72%</td>\n",
       "      <td>84%</td>\n",
       "      <td>11th grade</td>\n",
       "    </tr>\n",
       "  </tbody>\n",
       "</table>\n",
       "</div>"
      ],
      "text/plain": [
       "   id          full_name gender_age fractions probability       grade\n",
       "0   0     Moses Kirckman        M14       69%         89%  11th grade\n",
       "1   1    Timofei Strowan        M18       63%         76%  11th grade\n",
       "2   2       Silvain Poll        M18       69%         77%   9th grade\n",
       "3   3     Lezley Pinxton        M18       NaN         72%  11th grade\n",
       "4   4  Bernadene Saunper        F17       72%         84%  11th grade"
      ]
     },
     "execution_count": 61,
     "metadata": {},
     "output_type": "execute_result"
    }
   ],
   "source": [
    "students.head()"
   ]
  },
  {
   "cell_type": "code",
   "execution_count": 62,
   "metadata": {},
   "outputs": [
    {
     "data": {
      "text/plain": [
       "1000"
      ]
     },
     "execution_count": 62,
     "metadata": {},
     "output_type": "execute_result"
    }
   ],
   "source": [
    "len(students)"
   ]
  },
  {
   "cell_type": "markdown",
   "metadata": {},
   "source": [
    "Print out the column names:"
   ]
  },
  {
   "cell_type": "code",
   "execution_count": 63,
   "metadata": {},
   "outputs": [
    {
     "data": {
      "text/plain": [
       "Index(['id', 'full_name', 'gender_age', 'fractions', 'probability', 'grade'], dtype='object')"
      ]
     },
     "execution_count": 63,
     "metadata": {},
     "output_type": "execute_result"
    }
   ],
   "source": [
    "students.columns"
   ]
  },
  {
   "cell_type": "markdown",
   "metadata": {},
   "source": [
    "### Reorganise the data\n",
    "At the moment the colums are not individual variables and the rows are not specific enough observations for a given instance, in this case the student name.\n"
   ]
  },
  {
   "cell_type": "markdown",
   "metadata": {},
   "source": [
    "There is a column for the scores on the fractions exam, and a column for the scores on the probabilities exam.\n",
    "\n",
    "We want to make each row an observation, so we want to transform this table to look like:\n",
    "\n",
    " |full_name|exam|\n",
    " |-------:|:------|\n",
    "|“First Student”|“Fractions\"|\n",
    "|“First Student”|“Probabilities\"|\n",
    "|“Second Student”|\t“Fractions”|\n",
    "|“Second Student”|\t“Probabilities”|\t\n",
    "\n",
    "Use pd.melt() to create a new table (still called students) that follows this structure."
   ]
  },
  {
   "cell_type": "code",
   "execution_count": 64,
   "metadata": {
    "scrolled": true
   },
   "outputs": [
    {
     "data": {
      "text/html": [
       "<div>\n",
       "<style scoped>\n",
       "    .dataframe tbody tr th:only-of-type {\n",
       "        vertical-align: middle;\n",
       "    }\n",
       "\n",
       "    .dataframe tbody tr th {\n",
       "        vertical-align: top;\n",
       "    }\n",
       "\n",
       "    .dataframe thead th {\n",
       "        text-align: right;\n",
       "    }\n",
       "</style>\n",
       "<table border=\"1\" class=\"dataframe\">\n",
       "  <thead>\n",
       "    <tr style=\"text-align: right;\">\n",
       "      <th></th>\n",
       "      <th>full_name</th>\n",
       "      <th>gender_age</th>\n",
       "      <th>grade</th>\n",
       "      <th>exam</th>\n",
       "      <th>score</th>\n",
       "    </tr>\n",
       "  </thead>\n",
       "  <tbody>\n",
       "    <tr>\n",
       "      <th>0</th>\n",
       "      <td>Moses Kirckman</td>\n",
       "      <td>M14</td>\n",
       "      <td>11th grade</td>\n",
       "      <td>fractions</td>\n",
       "      <td>69%</td>\n",
       "    </tr>\n",
       "    <tr>\n",
       "      <th>1</th>\n",
       "      <td>Timofei Strowan</td>\n",
       "      <td>M18</td>\n",
       "      <td>11th grade</td>\n",
       "      <td>fractions</td>\n",
       "      <td>63%</td>\n",
       "    </tr>\n",
       "    <tr>\n",
       "      <th>2</th>\n",
       "      <td>Silvain Poll</td>\n",
       "      <td>M18</td>\n",
       "      <td>9th grade</td>\n",
       "      <td>fractions</td>\n",
       "      <td>69%</td>\n",
       "    </tr>\n",
       "    <tr>\n",
       "      <th>3</th>\n",
       "      <td>Lezley Pinxton</td>\n",
       "      <td>M18</td>\n",
       "      <td>11th grade</td>\n",
       "      <td>fractions</td>\n",
       "      <td>NaN</td>\n",
       "    </tr>\n",
       "    <tr>\n",
       "      <th>4</th>\n",
       "      <td>Bernadene Saunper</td>\n",
       "      <td>F17</td>\n",
       "      <td>11th grade</td>\n",
       "      <td>fractions</td>\n",
       "      <td>72%</td>\n",
       "    </tr>\n",
       "  </tbody>\n",
       "</table>\n",
       "</div>"
      ],
      "text/plain": [
       "           full_name gender_age       grade       exam score\n",
       "0     Moses Kirckman        M14  11th grade  fractions   69%\n",
       "1    Timofei Strowan        M18  11th grade  fractions   63%\n",
       "2       Silvain Poll        M18   9th grade  fractions   69%\n",
       "3     Lezley Pinxton        M18  11th grade  fractions   NaN\n",
       "4  Bernadene Saunper        F17  11th grade  fractions   72%"
      ]
     },
     "execution_count": 64,
     "metadata": {},
     "output_type": "execute_result"
    }
   ],
   "source": [
    "students_melted = pd.melt(frame=students,\n",
    "                          id_vars=['full_name', 'gender_age', 'grade'],\n",
    "                          value_vars=['fractions','probability'],\n",
    "                          value_name=\"score\", var_name=\"exam\")\n",
    "students_melted.head()"
   ]
  },
  {
   "cell_type": "markdown",
   "metadata": {},
   "source": [
    "Now each row has specific information for each instance, so each student will have 2 rows now, one for each exam they took."
   ]
  },
  {
   "cell_type": "code",
   "execution_count": 67,
   "metadata": {},
   "outputs": [
    {
     "data": {
      "text/plain": [
       "probability    1000\n",
       "fractions      1000\n",
       "Name: exam, dtype: int64"
      ]
     },
     "execution_count": 67,
     "metadata": {},
     "output_type": "execute_result"
    }
   ],
   "source": [
    "\n",
    "students_melted.exam.value_counts()\n"
   ]
  },
  {
   "cell_type": "markdown",
   "metadata": {},
   "source": [
    "As seen above, there are 1000 entries for probability and 1000 entries for fractions, esentially doubleing the data, but now it is more granular and easier to process."
   ]
  },
  {
   "cell_type": "markdown",
   "metadata": {},
   "source": []
  }
 ],
 "metadata": {
  "kernelspec": {
   "display_name": "Python 3",
   "language": "python",
   "name": "python3"
  },
  "language_info": {
   "codemirror_mode": {
    "name": "ipython",
    "version": 3
   },
   "file_extension": ".py",
   "mimetype": "text/x-python",
   "name": "python",
   "nbconvert_exporter": "python",
   "pygments_lexer": "ipython3",
   "version": "3.7.3"
  }
 },
 "nbformat": 4,
 "nbformat_minor": 2
}
