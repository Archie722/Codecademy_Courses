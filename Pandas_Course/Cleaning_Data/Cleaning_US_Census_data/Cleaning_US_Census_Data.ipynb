{
 "cells": [
  {
   "cell_type": "markdown",
   "metadata": {},
   "source": [
    "# Cleaning US census Data"
   ]
  },
  {
   "cell_type": "code",
   "execution_count": 346,
   "metadata": {},
   "outputs": [],
   "source": [
    "import pandas as pd\n",
    "import glob\n",
    "import numpy as np\n",
    "import matplotlib.pyplot as pyplot"
   ]
  },
  {
   "cell_type": "markdown",
   "metadata": {},
   "source": [
    "## Compile the Data"
   ]
  },
  {
   "cell_type": "markdown",
   "metadata": {},
   "source": [
    "***\n",
    "Using glob, loop through the census files available and load them into DataFrames. Then, concatenate all of those DataFrames together into one DataFrame, called something like us_census."
   ]
  },
  {
   "cell_type": "code",
   "execution_count": 347,
   "metadata": {},
   "outputs": [
    {
     "data": {
      "text/plain": [
       "['states8.csv',\n",
       " 'states9.csv',\n",
       " 'states4.csv',\n",
       " 'states5.csv',\n",
       " 'states7.csv',\n",
       " 'states6.csv',\n",
       " 'states2.csv',\n",
       " 'states3.csv',\n",
       " 'states1.csv']"
      ]
     },
     "execution_count": 347,
     "metadata": {},
     "output_type": "execute_result"
    }
   ],
   "source": [
    "census_files = glob.glob(\"states*.csv\")\n",
    "\n",
    "file_list = []\n",
    "for filename in census_files:\n",
    "    data = pd.read_csv(filename)\n",
    "    file_list.append(data)\n",
    "\n",
    "census_files"
   ]
  },
  {
   "cell_type": "markdown",
   "metadata": {},
   "source": [
    "## Inital view of the Data"
   ]
  },
  {
   "cell_type": "code",
   "execution_count": 348,
   "metadata": {},
   "outputs": [
    {
     "data": {
      "text/html": [
       "<div>\n",
       "<style scoped>\n",
       "    .dataframe tbody tr th:only-of-type {\n",
       "        vertical-align: middle;\n",
       "    }\n",
       "\n",
       "    .dataframe tbody tr th {\n",
       "        vertical-align: top;\n",
       "    }\n",
       "\n",
       "    .dataframe thead th {\n",
       "        text-align: right;\n",
       "    }\n",
       "</style>\n",
       "<table border=\"1\" class=\"dataframe\">\n",
       "  <thead>\n",
       "    <tr style=\"text-align: right;\">\n",
       "      <th></th>\n",
       "      <th>Unnamed: 0</th>\n",
       "      <th>State</th>\n",
       "      <th>TotalPop</th>\n",
       "      <th>Hispanic</th>\n",
       "      <th>White</th>\n",
       "      <th>Black</th>\n",
       "      <th>Native</th>\n",
       "      <th>Asian</th>\n",
       "      <th>Pacific</th>\n",
       "      <th>Income</th>\n",
       "      <th>GenderPop</th>\n",
       "    </tr>\n",
       "  </thead>\n",
       "  <tbody>\n",
       "    <tr>\n",
       "      <th>0</th>\n",
       "      <td>0</td>\n",
       "      <td>Rhode Island</td>\n",
       "      <td>1053661</td>\n",
       "      <td>13.356666666666678%</td>\n",
       "      <td>74.32541666666665%</td>\n",
       "      <td>5.68291666666667%</td>\n",
       "      <td>0.3462500000000001%</td>\n",
       "      <td>3.2474999999999983%</td>\n",
       "      <td>0.035833333333333335%</td>\n",
       "      <td>$59125.270833333336</td>\n",
       "      <td>510388M_543273F</td>\n",
       "    </tr>\n",
       "    <tr>\n",
       "      <th>1</th>\n",
       "      <td>1</td>\n",
       "      <td>South Carolina</td>\n",
       "      <td>4777576</td>\n",
       "      <td>5.056684981684991%</td>\n",
       "      <td>62.888736263736185%</td>\n",
       "      <td>28.75091575091577%</td>\n",
       "      <td>0.2923992673992673%</td>\n",
       "      <td>1.249175824175822%</td>\n",
       "      <td>0.046978021978021964%</td>\n",
       "      <td>$46296.807763401106</td>\n",
       "      <td>2322409M_2455167F</td>\n",
       "    </tr>\n",
       "    <tr>\n",
       "      <th>2</th>\n",
       "      <td>2</td>\n",
       "      <td>South Dakota</td>\n",
       "      <td>843190</td>\n",
       "      <td>3.2396396396396376%</td>\n",
       "      <td>82.50090090090092%</td>\n",
       "      <td>1.4238738738738752%</td>\n",
       "      <td>9.417567567567566%</td>\n",
       "      <td>1.0193693693693688%</td>\n",
       "      <td>0.04189189189189189%</td>\n",
       "      <td>$51805.40540540541</td>\n",
       "      <td>423477M_419713F</td>\n",
       "    </tr>\n",
       "    <tr>\n",
       "      <th>3</th>\n",
       "      <td>3</td>\n",
       "      <td>Tennessee</td>\n",
       "      <td>6499615</td>\n",
       "      <td>4.720026972353339%</td>\n",
       "      <td>73.49008766014822%</td>\n",
       "      <td>18.283816587997297%</td>\n",
       "      <td>0.22663519892110592%</td>\n",
       "      <td>1.4072825354012126%</td>\n",
       "      <td>0.04315576534052599%</td>\n",
       "      <td>$47328.083616587355</td>\n",
       "      <td>3167756M_3331859F</td>\n",
       "    </tr>\n",
       "    <tr>\n",
       "      <th>4</th>\n",
       "      <td>4</td>\n",
       "      <td>Texas</td>\n",
       "      <td>26538614</td>\n",
       "      <td>38.04673809068304%</td>\n",
       "      <td>44.687908934379145%</td>\n",
       "      <td>11.65004782858236%</td>\n",
       "      <td>0.26114405969007126%</td>\n",
       "      <td>3.6696958102161825%</td>\n",
       "      <td>0.06881576430074614%</td>\n",
       "      <td>$55874.522600500095</td>\n",
       "      <td>13171316M_13367298F</td>\n",
       "    </tr>\n",
       "  </tbody>\n",
       "</table>\n",
       "</div>"
      ],
      "text/plain": [
       "   Unnamed: 0           State  TotalPop             Hispanic  \\\n",
       "0           0    Rhode Island   1053661  13.356666666666678%   \n",
       "1           1  South Carolina   4777576   5.056684981684991%   \n",
       "2           2    South Dakota    843190  3.2396396396396376%   \n",
       "3           3       Tennessee   6499615   4.720026972353339%   \n",
       "4           4           Texas  26538614   38.04673809068304%   \n",
       "\n",
       "                 White                Black                Native  \\\n",
       "0   74.32541666666665%    5.68291666666667%   0.3462500000000001%   \n",
       "1  62.888736263736185%   28.75091575091577%   0.2923992673992673%   \n",
       "2   82.50090090090092%  1.4238738738738752%    9.417567567567566%   \n",
       "3   73.49008766014822%  18.283816587997297%  0.22663519892110592%   \n",
       "4  44.687908934379145%   11.65004782858236%  0.26114405969007126%   \n",
       "\n",
       "                 Asian                Pacific               Income  \\\n",
       "0  3.2474999999999983%  0.035833333333333335%  $59125.270833333336   \n",
       "1   1.249175824175822%  0.046978021978021964%  $46296.807763401106   \n",
       "2  1.0193693693693688%   0.04189189189189189%   $51805.40540540541   \n",
       "3  1.4072825354012126%   0.04315576534052599%  $47328.083616587355   \n",
       "4  3.6696958102161825%   0.06881576430074614%  $55874.522600500095   \n",
       "\n",
       "             GenderPop  \n",
       "0      510388M_543273F  \n",
       "1    2322409M_2455167F  \n",
       "2      423477M_419713F  \n",
       "3    3167756M_3331859F  \n",
       "4  13171316M_13367298F  "
      ]
     },
     "execution_count": 348,
     "metadata": {},
     "output_type": "execute_result"
    }
   ],
   "source": [
    "us_census = pd.concat(file_list)\n",
    "us_census.head()"
   ]
  },
  {
   "cell_type": "markdown",
   "metadata": {},
   "source": [
    "Look at the .columns and the .dtypes of the us_census DataFrame. Are those datatypes going to hinder you as you try to make histograms?"
   ]
  },
  {
   "cell_type": "code",
   "execution_count": 349,
   "metadata": {},
   "outputs": [
    {
     "data": {
      "text/plain": [
       "Index(['Unnamed: 0', 'State', 'TotalPop', 'Hispanic', 'White', 'Black',\n",
       "       'Native', 'Asian', 'Pacific', 'Income', 'GenderPop'],\n",
       "      dtype='object')"
      ]
     },
     "execution_count": 349,
     "metadata": {},
     "output_type": "execute_result"
    }
   ],
   "source": [
    "us_census.columns"
   ]
  },
  {
   "cell_type": "markdown",
   "metadata": {},
   "source": [
    "Look at the .head() of the DataFrame so that you can understand why some of these dtypes are objects instead of integers or floats."
   ]
  },
  {
   "cell_type": "code",
   "execution_count": 350,
   "metadata": {},
   "outputs": [
    {
     "data": {
      "text/plain": [
       "Unnamed: 0     int64\n",
       "State         object\n",
       "TotalPop       int64\n",
       "Hispanic      object\n",
       "White         object\n",
       "Black         object\n",
       "Native        object\n",
       "Asian         object\n",
       "Pacific       object\n",
       "Income        object\n",
       "GenderPop     object\n",
       "dtype: object"
      ]
     },
     "execution_count": 350,
     "metadata": {},
     "output_type": "execute_result"
    }
   ],
   "source": [
    "us_census.dtypes"
   ]
  },
  {
   "cell_type": "markdown",
   "metadata": {},
   "source": [
    "Start to make a plan for how to convert these columns into the right types for manipulation.  \n",
    "\n",
    "Regex to the Rescue  \n",
    "\n",
    "Use regex to turn the Income column into a format that is ready for conversion into a numerical type."
   ]
  },
  {
   "cell_type": "markdown",
   "metadata": {},
   "source": [
    "## Remove the currency sign and change Data type to numeric"
   ]
  },
  {
   "cell_type": "code",
   "execution_count": 351,
   "metadata": {},
   "outputs": [
    {
     "data": {
      "text/plain": [
       "0    59125.270833333336\n",
       "1    46296.807763401106\n",
       "2     51805.40540540541\n",
       "3    47328.083616587355\n",
       "4    55874.522600500095\n",
       "Name: Income, dtype: object"
      ]
     },
     "execution_count": 351,
     "metadata": {},
     "output_type": "execute_result"
    }
   ],
   "source": [
    "us_census.Income = us_census.Income.replace('[\\$]', '', regex=True)\n",
    "us_census.Income.head()"
   ]
  },
  {
   "cell_type": "markdown",
   "metadata": {},
   "source": [
    "Look at the PopulationGender column. We are going to want to separate this into two columns, the Men column, and the Women column.\n",
    "\n",
    "Split the column into those two new columns using str.split and separating out those results."
   ]
  },
  {
   "cell_type": "markdown",
   "metadata": {},
   "source": [
    "## Seperate Male and Female figures using .split()"
   ]
  },
  {
   "cell_type": "code",
   "execution_count": 352,
   "metadata": {
    "scrolled": true
   },
   "outputs": [
    {
     "data": {
      "text/plain": [
       "0        [510388M, 543273F]\n",
       "1      [2322409M, 2455167F]\n",
       "2        [423477M, 419713F]\n",
       "3      [3167756M, 3331859F]\n",
       "4    [13171316M, 13367298F]\n",
       "Name: GenderPop, dtype: object"
      ]
     },
     "execution_count": 352,
     "metadata": {},
     "output_type": "execute_result"
    }
   ],
   "source": [
    "population_split = us_census.GenderPop.str.split(\"_\")\n",
    "population_split.head()"
   ]
  },
  {
   "cell_type": "code",
   "execution_count": 353,
   "metadata": {},
   "outputs": [
    {
     "data": {
      "text/html": [
       "<div>\n",
       "<style scoped>\n",
       "    .dataframe tbody tr th:only-of-type {\n",
       "        vertical-align: middle;\n",
       "    }\n",
       "\n",
       "    .dataframe tbody tr th {\n",
       "        vertical-align: top;\n",
       "    }\n",
       "\n",
       "    .dataframe thead th {\n",
       "        text-align: right;\n",
       "    }\n",
       "</style>\n",
       "<table border=\"1\" class=\"dataframe\">\n",
       "  <thead>\n",
       "    <tr style=\"text-align: right;\">\n",
       "      <th></th>\n",
       "      <th>Unnamed: 0</th>\n",
       "      <th>State</th>\n",
       "      <th>TotalPop</th>\n",
       "      <th>Hispanic</th>\n",
       "      <th>White</th>\n",
       "      <th>Black</th>\n",
       "      <th>Native</th>\n",
       "      <th>Asian</th>\n",
       "      <th>Pacific</th>\n",
       "      <th>Income</th>\n",
       "      <th>GenderPop</th>\n",
       "      <th>male_population</th>\n",
       "      <th>female_population</th>\n",
       "    </tr>\n",
       "  </thead>\n",
       "  <tbody>\n",
       "    <tr>\n",
       "      <th>0</th>\n",
       "      <td>0</td>\n",
       "      <td>Rhode Island</td>\n",
       "      <td>1053661</td>\n",
       "      <td>13.356666666666678%</td>\n",
       "      <td>74.32541666666665%</td>\n",
       "      <td>5.68291666666667%</td>\n",
       "      <td>0.3462500000000001%</td>\n",
       "      <td>3.2474999999999983%</td>\n",
       "      <td>0.035833333333333335%</td>\n",
       "      <td>59125.270833333336</td>\n",
       "      <td>510388M_543273F</td>\n",
       "      <td>510388M</td>\n",
       "      <td>543273F</td>\n",
       "    </tr>\n",
       "    <tr>\n",
       "      <th>1</th>\n",
       "      <td>1</td>\n",
       "      <td>South Carolina</td>\n",
       "      <td>4777576</td>\n",
       "      <td>5.056684981684991%</td>\n",
       "      <td>62.888736263736185%</td>\n",
       "      <td>28.75091575091577%</td>\n",
       "      <td>0.2923992673992673%</td>\n",
       "      <td>1.249175824175822%</td>\n",
       "      <td>0.046978021978021964%</td>\n",
       "      <td>46296.807763401106</td>\n",
       "      <td>2322409M_2455167F</td>\n",
       "      <td>2322409M</td>\n",
       "      <td>2455167F</td>\n",
       "    </tr>\n",
       "    <tr>\n",
       "      <th>2</th>\n",
       "      <td>2</td>\n",
       "      <td>South Dakota</td>\n",
       "      <td>843190</td>\n",
       "      <td>3.2396396396396376%</td>\n",
       "      <td>82.50090090090092%</td>\n",
       "      <td>1.4238738738738752%</td>\n",
       "      <td>9.417567567567566%</td>\n",
       "      <td>1.0193693693693688%</td>\n",
       "      <td>0.04189189189189189%</td>\n",
       "      <td>51805.40540540541</td>\n",
       "      <td>423477M_419713F</td>\n",
       "      <td>423477M</td>\n",
       "      <td>419713F</td>\n",
       "    </tr>\n",
       "    <tr>\n",
       "      <th>3</th>\n",
       "      <td>3</td>\n",
       "      <td>Tennessee</td>\n",
       "      <td>6499615</td>\n",
       "      <td>4.720026972353339%</td>\n",
       "      <td>73.49008766014822%</td>\n",
       "      <td>18.283816587997297%</td>\n",
       "      <td>0.22663519892110592%</td>\n",
       "      <td>1.4072825354012126%</td>\n",
       "      <td>0.04315576534052599%</td>\n",
       "      <td>47328.083616587355</td>\n",
       "      <td>3167756M_3331859F</td>\n",
       "      <td>3167756M</td>\n",
       "      <td>3331859F</td>\n",
       "    </tr>\n",
       "    <tr>\n",
       "      <th>4</th>\n",
       "      <td>4</td>\n",
       "      <td>Texas</td>\n",
       "      <td>26538614</td>\n",
       "      <td>38.04673809068304%</td>\n",
       "      <td>44.687908934379145%</td>\n",
       "      <td>11.65004782858236%</td>\n",
       "      <td>0.26114405969007126%</td>\n",
       "      <td>3.6696958102161825%</td>\n",
       "      <td>0.06881576430074614%</td>\n",
       "      <td>55874.522600500095</td>\n",
       "      <td>13171316M_13367298F</td>\n",
       "      <td>13171316M</td>\n",
       "      <td>13367298F</td>\n",
       "    </tr>\n",
       "  </tbody>\n",
       "</table>\n",
       "</div>"
      ],
      "text/plain": [
       "   Unnamed: 0           State  TotalPop             Hispanic  \\\n",
       "0           0    Rhode Island   1053661  13.356666666666678%   \n",
       "1           1  South Carolina   4777576   5.056684981684991%   \n",
       "2           2    South Dakota    843190  3.2396396396396376%   \n",
       "3           3       Tennessee   6499615   4.720026972353339%   \n",
       "4           4           Texas  26538614   38.04673809068304%   \n",
       "\n",
       "                 White                Black                Native  \\\n",
       "0   74.32541666666665%    5.68291666666667%   0.3462500000000001%   \n",
       "1  62.888736263736185%   28.75091575091577%   0.2923992673992673%   \n",
       "2   82.50090090090092%  1.4238738738738752%    9.417567567567566%   \n",
       "3   73.49008766014822%  18.283816587997297%  0.22663519892110592%   \n",
       "4  44.687908934379145%   11.65004782858236%  0.26114405969007126%   \n",
       "\n",
       "                 Asian                Pacific              Income  \\\n",
       "0  3.2474999999999983%  0.035833333333333335%  59125.270833333336   \n",
       "1   1.249175824175822%  0.046978021978021964%  46296.807763401106   \n",
       "2  1.0193693693693688%   0.04189189189189189%   51805.40540540541   \n",
       "3  1.4072825354012126%   0.04315576534052599%  47328.083616587355   \n",
       "4  3.6696958102161825%   0.06881576430074614%  55874.522600500095   \n",
       "\n",
       "             GenderPop male_population female_population  \n",
       "0      510388M_543273F         510388M           543273F  \n",
       "1    2322409M_2455167F        2322409M          2455167F  \n",
       "2      423477M_419713F         423477M           419713F  \n",
       "3    3167756M_3331859F        3167756M          3331859F  \n",
       "4  13171316M_13367298F       13171316M         13367298F  "
      ]
     },
     "execution_count": 353,
     "metadata": {},
     "output_type": "execute_result"
    }
   ],
   "source": [
    "us_census['male_population'] = population_split.str.get(0)\n",
    "us_census['female_population'] = population_split.str.get(1)\n",
    "us_census.head()"
   ]
  },
  {
   "cell_type": "markdown",
   "metadata": {},
   "source": [
    "There is still an M or an F character in each entry! We should remove those before we convert to numeric data types."
   ]
  },
  {
   "cell_type": "code",
   "execution_count": 354,
   "metadata": {},
   "outputs": [
    {
     "data": {
      "text/html": [
       "<div>\n",
       "<style scoped>\n",
       "    .dataframe tbody tr th:only-of-type {\n",
       "        vertical-align: middle;\n",
       "    }\n",
       "\n",
       "    .dataframe tbody tr th {\n",
       "        vertical-align: top;\n",
       "    }\n",
       "\n",
       "    .dataframe thead th {\n",
       "        text-align: right;\n",
       "    }\n",
       "</style>\n",
       "<table border=\"1\" class=\"dataframe\">\n",
       "  <thead>\n",
       "    <tr style=\"text-align: right;\">\n",
       "      <th></th>\n",
       "      <th>male_pop</th>\n",
       "      <th>female_pop</th>\n",
       "    </tr>\n",
       "  </thead>\n",
       "  <tbody>\n",
       "    <tr>\n",
       "      <th>0</th>\n",
       "      <td>510388</td>\n",
       "      <td>543273</td>\n",
       "    </tr>\n",
       "    <tr>\n",
       "      <th>1</th>\n",
       "      <td>2322409</td>\n",
       "      <td>2455167</td>\n",
       "    </tr>\n",
       "    <tr>\n",
       "      <th>2</th>\n",
       "      <td>423477</td>\n",
       "      <td>419713</td>\n",
       "    </tr>\n",
       "    <tr>\n",
       "      <th>3</th>\n",
       "      <td>3167756</td>\n",
       "      <td>3331859</td>\n",
       "    </tr>\n",
       "    <tr>\n",
       "      <th>4</th>\n",
       "      <td>13171316</td>\n",
       "      <td>13367298</td>\n",
       "    </tr>\n",
       "  </tbody>\n",
       "</table>\n",
       "</div>"
      ],
      "text/plain": [
       "   male_pop female_pop\n",
       "0    510388     543273\n",
       "1   2322409    2455167\n",
       "2    423477     419713\n",
       "3   3167756    3331859\n",
       "4  13171316   13367298"
      ]
     },
     "execution_count": 354,
     "metadata": {},
     "output_type": "execute_result"
    }
   ],
   "source": [
    "pop_split = pd.DataFrame() # Create a temp empty df\n",
    "pop_split['male_pop'] = us_census.male_population.str[0:-1]\n",
    "pop_split['female_pop'] = us_census.female_population.str[0:-1]\n",
    "pop_split.head()"
   ]
  },
  {
   "cell_type": "code",
   "execution_count": 355,
   "metadata": {},
   "outputs": [
    {
     "data": {
      "text/html": [
       "<div>\n",
       "<style scoped>\n",
       "    .dataframe tbody tr th:only-of-type {\n",
       "        vertical-align: middle;\n",
       "    }\n",
       "\n",
       "    .dataframe tbody tr th {\n",
       "        vertical-align: top;\n",
       "    }\n",
       "\n",
       "    .dataframe thead th {\n",
       "        text-align: right;\n",
       "    }\n",
       "</style>\n",
       "<table border=\"1\" class=\"dataframe\">\n",
       "  <thead>\n",
       "    <tr style=\"text-align: right;\">\n",
       "      <th></th>\n",
       "      <th>Unnamed: 0</th>\n",
       "      <th>State</th>\n",
       "      <th>TotalPop</th>\n",
       "      <th>Hispanic</th>\n",
       "      <th>White</th>\n",
       "      <th>Black</th>\n",
       "      <th>Native</th>\n",
       "      <th>Asian</th>\n",
       "      <th>Pacific</th>\n",
       "      <th>Income</th>\n",
       "      <th>GenderPop</th>\n",
       "      <th>male_population</th>\n",
       "      <th>female_population</th>\n",
       "      <th>male_pop</th>\n",
       "      <th>female_pop</th>\n",
       "    </tr>\n",
       "  </thead>\n",
       "  <tbody>\n",
       "    <tr>\n",
       "      <th>0</th>\n",
       "      <td>0</td>\n",
       "      <td>Rhode Island</td>\n",
       "      <td>1053661</td>\n",
       "      <td>13.356666666666678%</td>\n",
       "      <td>74.32541666666665%</td>\n",
       "      <td>5.68291666666667%</td>\n",
       "      <td>0.3462500000000001%</td>\n",
       "      <td>3.2474999999999983%</td>\n",
       "      <td>0.035833333333333335%</td>\n",
       "      <td>59125.270833333336</td>\n",
       "      <td>510388M_543273F</td>\n",
       "      <td>510388M</td>\n",
       "      <td>543273F</td>\n",
       "      <td>510388</td>\n",
       "      <td>543273</td>\n",
       "    </tr>\n",
       "    <tr>\n",
       "      <th>1</th>\n",
       "      <td>1</td>\n",
       "      <td>South Carolina</td>\n",
       "      <td>4777576</td>\n",
       "      <td>5.056684981684991%</td>\n",
       "      <td>62.888736263736185%</td>\n",
       "      <td>28.75091575091577%</td>\n",
       "      <td>0.2923992673992673%</td>\n",
       "      <td>1.249175824175822%</td>\n",
       "      <td>0.046978021978021964%</td>\n",
       "      <td>46296.807763401106</td>\n",
       "      <td>2322409M_2455167F</td>\n",
       "      <td>2322409M</td>\n",
       "      <td>2455167F</td>\n",
       "      <td>2322409</td>\n",
       "      <td>2455167</td>\n",
       "    </tr>\n",
       "    <tr>\n",
       "      <th>2</th>\n",
       "      <td>2</td>\n",
       "      <td>South Dakota</td>\n",
       "      <td>843190</td>\n",
       "      <td>3.2396396396396376%</td>\n",
       "      <td>82.50090090090092%</td>\n",
       "      <td>1.4238738738738752%</td>\n",
       "      <td>9.417567567567566%</td>\n",
       "      <td>1.0193693693693688%</td>\n",
       "      <td>0.04189189189189189%</td>\n",
       "      <td>51805.40540540541</td>\n",
       "      <td>423477M_419713F</td>\n",
       "      <td>423477M</td>\n",
       "      <td>419713F</td>\n",
       "      <td>423477</td>\n",
       "      <td>419713</td>\n",
       "    </tr>\n",
       "    <tr>\n",
       "      <th>3</th>\n",
       "      <td>3</td>\n",
       "      <td>Tennessee</td>\n",
       "      <td>6499615</td>\n",
       "      <td>4.720026972353339%</td>\n",
       "      <td>73.49008766014822%</td>\n",
       "      <td>18.283816587997297%</td>\n",
       "      <td>0.22663519892110592%</td>\n",
       "      <td>1.4072825354012126%</td>\n",
       "      <td>0.04315576534052599%</td>\n",
       "      <td>47328.083616587355</td>\n",
       "      <td>3167756M_3331859F</td>\n",
       "      <td>3167756M</td>\n",
       "      <td>3331859F</td>\n",
       "      <td>3167756</td>\n",
       "      <td>3331859</td>\n",
       "    </tr>\n",
       "    <tr>\n",
       "      <th>4</th>\n",
       "      <td>4</td>\n",
       "      <td>Texas</td>\n",
       "      <td>26538614</td>\n",
       "      <td>38.04673809068304%</td>\n",
       "      <td>44.687908934379145%</td>\n",
       "      <td>11.65004782858236%</td>\n",
       "      <td>0.26114405969007126%</td>\n",
       "      <td>3.6696958102161825%</td>\n",
       "      <td>0.06881576430074614%</td>\n",
       "      <td>55874.522600500095</td>\n",
       "      <td>13171316M_13367298F</td>\n",
       "      <td>13171316M</td>\n",
       "      <td>13367298F</td>\n",
       "      <td>13171316</td>\n",
       "      <td>13367298</td>\n",
       "    </tr>\n",
       "  </tbody>\n",
       "</table>\n",
       "</div>"
      ],
      "text/plain": [
       "   Unnamed: 0           State  TotalPop             Hispanic  \\\n",
       "0           0    Rhode Island   1053661  13.356666666666678%   \n",
       "1           1  South Carolina   4777576   5.056684981684991%   \n",
       "2           2    South Dakota    843190  3.2396396396396376%   \n",
       "3           3       Tennessee   6499615   4.720026972353339%   \n",
       "4           4           Texas  26538614   38.04673809068304%   \n",
       "\n",
       "                 White                Black                Native  \\\n",
       "0   74.32541666666665%    5.68291666666667%   0.3462500000000001%   \n",
       "1  62.888736263736185%   28.75091575091577%   0.2923992673992673%   \n",
       "2   82.50090090090092%  1.4238738738738752%    9.417567567567566%   \n",
       "3   73.49008766014822%  18.283816587997297%  0.22663519892110592%   \n",
       "4  44.687908934379145%   11.65004782858236%  0.26114405969007126%   \n",
       "\n",
       "                 Asian                Pacific              Income  \\\n",
       "0  3.2474999999999983%  0.035833333333333335%  59125.270833333336   \n",
       "1   1.249175824175822%  0.046978021978021964%  46296.807763401106   \n",
       "2  1.0193693693693688%   0.04189189189189189%   51805.40540540541   \n",
       "3  1.4072825354012126%   0.04315576534052599%  47328.083616587355   \n",
       "4  3.6696958102161825%   0.06881576430074614%  55874.522600500095   \n",
       "\n",
       "             GenderPop male_population female_population  male_pop female_pop  \n",
       "0      510388M_543273F         510388M           543273F    510388     543273  \n",
       "1    2322409M_2455167F        2322409M          2455167F   2322409    2455167  \n",
       "2      423477M_419713F         423477M           419713F    423477     419713  \n",
       "3    3167756M_3331859F        3167756M          3331859F   3167756    3331859  \n",
       "4  13171316M_13367298F       13171316M         13367298F  13171316   13367298  "
      ]
     },
     "execution_count": 355,
     "metadata": {},
     "output_type": "execute_result"
    }
   ],
   "source": [
    "us_census = pd.concat([us_census, pop_split], axis = 1)\n",
    "us_census.head()"
   ]
  },
  {
   "cell_type": "markdown",
   "metadata": {},
   "source": [
    "## Sort out the Columns we want and rename a couple"
   ]
  },
  {
   "cell_type": "code",
   "execution_count": 356,
   "metadata": {},
   "outputs": [
    {
     "data": {
      "text/html": [
       "<div>\n",
       "<style scoped>\n",
       "    .dataframe tbody tr th:only-of-type {\n",
       "        vertical-align: middle;\n",
       "    }\n",
       "\n",
       "    .dataframe tbody tr th {\n",
       "        vertical-align: top;\n",
       "    }\n",
       "\n",
       "    .dataframe thead th {\n",
       "        text-align: right;\n",
       "    }\n",
       "</style>\n",
       "<table border=\"1\" class=\"dataframe\">\n",
       "  <thead>\n",
       "    <tr style=\"text-align: right;\">\n",
       "      <th></th>\n",
       "      <th>State</th>\n",
       "      <th>TotalPop</th>\n",
       "      <th>Hispanic</th>\n",
       "      <th>White</th>\n",
       "      <th>Black</th>\n",
       "      <th>Native</th>\n",
       "      <th>Asian</th>\n",
       "      <th>Pacific</th>\n",
       "      <th>Income</th>\n",
       "      <th>male_population</th>\n",
       "      <th>female_population</th>\n",
       "    </tr>\n",
       "  </thead>\n",
       "  <tbody>\n",
       "    <tr>\n",
       "      <th>0</th>\n",
       "      <td>Rhode Island</td>\n",
       "      <td>1053661</td>\n",
       "      <td>13.356666666666678%</td>\n",
       "      <td>74.32541666666665%</td>\n",
       "      <td>5.68291666666667%</td>\n",
       "      <td>0.3462500000000001%</td>\n",
       "      <td>3.2474999999999983%</td>\n",
       "      <td>0.035833333333333335%</td>\n",
       "      <td>59125.270833333336</td>\n",
       "      <td>510388</td>\n",
       "      <td>543273</td>\n",
       "    </tr>\n",
       "    <tr>\n",
       "      <th>1</th>\n",
       "      <td>South Carolina</td>\n",
       "      <td>4777576</td>\n",
       "      <td>5.056684981684991%</td>\n",
       "      <td>62.888736263736185%</td>\n",
       "      <td>28.75091575091577%</td>\n",
       "      <td>0.2923992673992673%</td>\n",
       "      <td>1.249175824175822%</td>\n",
       "      <td>0.046978021978021964%</td>\n",
       "      <td>46296.807763401106</td>\n",
       "      <td>2322409</td>\n",
       "      <td>2455167</td>\n",
       "    </tr>\n",
       "    <tr>\n",
       "      <th>2</th>\n",
       "      <td>South Dakota</td>\n",
       "      <td>843190</td>\n",
       "      <td>3.2396396396396376%</td>\n",
       "      <td>82.50090090090092%</td>\n",
       "      <td>1.4238738738738752%</td>\n",
       "      <td>9.417567567567566%</td>\n",
       "      <td>1.0193693693693688%</td>\n",
       "      <td>0.04189189189189189%</td>\n",
       "      <td>51805.40540540541</td>\n",
       "      <td>423477</td>\n",
       "      <td>419713</td>\n",
       "    </tr>\n",
       "    <tr>\n",
       "      <th>3</th>\n",
       "      <td>Tennessee</td>\n",
       "      <td>6499615</td>\n",
       "      <td>4.720026972353339%</td>\n",
       "      <td>73.49008766014822%</td>\n",
       "      <td>18.283816587997297%</td>\n",
       "      <td>0.22663519892110592%</td>\n",
       "      <td>1.4072825354012126%</td>\n",
       "      <td>0.04315576534052599%</td>\n",
       "      <td>47328.083616587355</td>\n",
       "      <td>3167756</td>\n",
       "      <td>3331859</td>\n",
       "    </tr>\n",
       "    <tr>\n",
       "      <th>4</th>\n",
       "      <td>Texas</td>\n",
       "      <td>26538614</td>\n",
       "      <td>38.04673809068304%</td>\n",
       "      <td>44.687908934379145%</td>\n",
       "      <td>11.65004782858236%</td>\n",
       "      <td>0.26114405969007126%</td>\n",
       "      <td>3.6696958102161825%</td>\n",
       "      <td>0.06881576430074614%</td>\n",
       "      <td>55874.522600500095</td>\n",
       "      <td>13171316</td>\n",
       "      <td>13367298</td>\n",
       "    </tr>\n",
       "  </tbody>\n",
       "</table>\n",
       "</div>"
      ],
      "text/plain": [
       "            State  TotalPop             Hispanic                White  \\\n",
       "0    Rhode Island   1053661  13.356666666666678%   74.32541666666665%   \n",
       "1  South Carolina   4777576   5.056684981684991%  62.888736263736185%   \n",
       "2    South Dakota    843190  3.2396396396396376%   82.50090090090092%   \n",
       "3       Tennessee   6499615   4.720026972353339%   73.49008766014822%   \n",
       "4           Texas  26538614   38.04673809068304%  44.687908934379145%   \n",
       "\n",
       "                 Black                Native                Asian  \\\n",
       "0    5.68291666666667%   0.3462500000000001%  3.2474999999999983%   \n",
       "1   28.75091575091577%   0.2923992673992673%   1.249175824175822%   \n",
       "2  1.4238738738738752%    9.417567567567566%  1.0193693693693688%   \n",
       "3  18.283816587997297%  0.22663519892110592%  1.4072825354012126%   \n",
       "4   11.65004782858236%  0.26114405969007126%  3.6696958102161825%   \n",
       "\n",
       "                 Pacific              Income male_population female_population  \n",
       "0  0.035833333333333335%  59125.270833333336          510388            543273  \n",
       "1  0.046978021978021964%  46296.807763401106         2322409           2455167  \n",
       "2   0.04189189189189189%   51805.40540540541          423477            419713  \n",
       "3   0.04315576534052599%  47328.083616587355         3167756           3331859  \n",
       "4   0.06881576430074614%  55874.522600500095        13171316          13367298  "
      ]
     },
     "execution_count": 356,
     "metadata": {},
     "output_type": "execute_result"
    }
   ],
   "source": [
    "# Gather the columns we want into the df\n",
    "us_census = us_census[['State', 'TotalPop', 'Hispanic', 'White', 'Black',\n",
    "       'Native', 'Asian', 'Pacific', 'Income', 'male_pop', 'female_pop',]]\n",
    "# Rename the male and female population columns\n",
    "us_census.columns = ['State', 'TotalPop', 'Hispanic', 'White', 'Black', 'Native', 'Asian',\n",
    "       'Pacific', 'Income', 'male_population', 'female_population']\n",
    "us_census.head()"
   ]
  },
  {
   "cell_type": "markdown",
   "metadata": {},
   "source": [
    "## Convert Data Types"
   ]
  },
  {
   "cell_type": "markdown",
   "metadata": {},
   "source": [
    "Convert both of the columns into numerical datatypes.\n",
    "\n"
   ]
  },
  {
   "cell_type": "code",
   "execution_count": 357,
   "metadata": {},
   "outputs": [
    {
     "data": {
      "text/plain": [
       "State                 object\n",
       "TotalPop               int64\n",
       "Hispanic              object\n",
       "White                 object\n",
       "Black                 object\n",
       "Native                object\n",
       "Asian                 object\n",
       "Pacific               object\n",
       "Income                object\n",
       "male_population        int64\n",
       "female_population    float64\n",
       "dtype: object"
      ]
     },
     "execution_count": 357,
     "metadata": {},
     "output_type": "execute_result"
    }
   ],
   "source": [
    "us_census.male_population = pd.to_numeric(us_census.male_population)\n",
    "us_census.female_population = pd.to_numeric(us_census.female_population)\n",
    "us_census.dtypes"
   ]
  },
  {
   "cell_type": "markdown",
   "metadata": {},
   "source": [
    "Now you should have the columns you need to make the graph and make sure your boss does not slam a ruler angrily on your desk because you’ve wasted your whole day cleaning your data with no results to show!\n",
    "\n",
    "Use matplotlib to make a scatterplot!\n"
   ]
  },
  {
   "cell_type": "markdown",
   "metadata": {},
   "source": [
    "## Make a scatter plot graph"
   ]
  },
  {
   "cell_type": "code",
   "execution_count": 358,
   "metadata": {},
   "outputs": [
    {
     "data": {
      "image/png": "[encoded data removed]",
      "text/plain": [
       "<Figure size 432x288 with 1 Axes>"
      ]
     },
     "metadata": {
      "needs_background": "light"
     },
     "output_type": "display_data"
    }
   ],
   "source": [
    "pyplot.scatter(us_census.female_population, us_census.Income) \n",
    "pyplot.show()"
   ]
  },
  {
   "cell_type": "markdown",
   "metadata": {},
   "source": [
    "## Check for NaN values (Not a Number)"
   ]
  },
  {
   "cell_type": "markdown",
   "metadata": {},
   "source": [
    "Did you get an error? These monstrous csv files probably have nan values in them! Print out your column with the number of women per state to see."
   ]
  },
  {
   "cell_type": "code",
   "execution_count": 359,
   "metadata": {},
   "outputs": [
    {
     "data": {
      "text/plain": [
       "0      543273.0\n",
       "1     2455167.0\n",
       "2      419713.0\n",
       "3     3331859.0\n",
       "4    13367298.0\n",
       "5     1444150.0\n",
       "0     1444150.0\n",
       "1      318031.0\n",
       "2     4195682.0\n",
       "3     3497739.0\n",
       "4      937789.0\n",
       "5     2890732.0\n",
       "0           NaN\n",
       "1     3455936.0\n",
       "2     5038598.0\n",
       "Name: female_population, dtype: float64"
      ]
     },
     "execution_count": 359,
     "metadata": {},
     "output_type": "execute_result"
    }
   ],
   "source": [
    "us_census.female_population.head(15)"
   ]
  },
  {
   "cell_type": "code",
   "execution_count": 360,
   "metadata": {},
   "outputs": [
    {
     "data": {
      "text/plain": [
       "0    False\n",
       "1    False\n",
       "2    False\n",
       "3    False\n",
       "4    False\n",
       "5    False\n",
       "0    False\n",
       "1    False\n",
       "2    False\n",
       "3    False\n",
       "4    False\n",
       "5    False\n",
       "0     True\n",
       "1    False\n",
       "2    False\n",
       "Name: female_population, dtype: bool"
      ]
     },
     "execution_count": 360,
     "metadata": {},
     "output_type": "execute_result"
    }
   ],
   "source": [
    "fem_pop_nan = us_census.female_population.isnull()\n",
    "fem_pop_nan.head(15)"
   ]
  },
  {
   "cell_type": "code",
   "execution_count": 361,
   "metadata": {},
   "outputs": [
    {
     "data": {
      "text/plain": [
       "False    51\n",
       "True      3\n",
       "Name: female_population, dtype: int64"
      ]
     },
     "execution_count": 361,
     "metadata": {},
     "output_type": "execute_result"
    }
   ],
   "source": [
    "fem_pop_nan.value_counts()"
   ]
  },
  {
   "cell_type": "markdown",
   "metadata": {},
   "source": [
    "We can fill in those nans by using pandas’ .fillna() function.\n",
    "\n",
    "You have the TotalPop per state, and you have the Men per state. As an estimate for the nan values in the Women column, you could use the TotalPop of that state minus the Men for that state.\n",
    "\n",
    "Print out the Women column after filling the nan values to see if it worked!"
   ]
  },
  {
   "cell_type": "markdown",
   "metadata": {},
   "source": [
    "## Work out the best way to fill the NaN values"
   ]
  },
  {
   "cell_type": "code",
   "execution_count": 362,
   "metadata": {},
   "outputs": [
    {
     "data": {
      "text/plain": [
       "TotalPop             5930538.0\n",
       "male_population      2872643.0\n",
       "female_population          NaN\n",
       "Name: 0, dtype: float64"
      ]
     },
     "execution_count": 362,
     "metadata": {},
     "output_type": "execute_result"
    }
   ],
   "source": [
    "example_nan = us_census[['TotalPop', 'male_population', 'female_population']]\n",
    "example_nan.iloc[12]"
   ]
  },
  {
   "cell_type": "code",
   "execution_count": 363,
   "metadata": {},
   "outputs": [],
   "source": [
    "nan_value = us_census.TotalPop - us_census.male_population\n"
   ]
  },
  {
   "cell_type": "markdown",
   "metadata": {},
   "source": [
    "## Double check we got the expected result"
   ]
  },
  {
   "cell_type": "code",
   "execution_count": 364,
   "metadata": {},
   "outputs": [
    {
     "data": {
      "text/plain": [
       "TotalPop             5930538.0\n",
       "male_population      2872643.0\n",
       "female_population    3057895.0\n",
       "Name: 0, dtype: float64"
      ]
     },
     "execution_count": 364,
     "metadata": {},
     "output_type": "execute_result"
    }
   ],
   "source": [
    "us_census.female_population = us_census.female_population.fillna(value=nan_value)\n",
    "example_nan_fixed = us_census[['TotalPop', 'male_population', 'female_population']]\n",
    "example_nan_fixed.iloc[12]"
   ]
  },
  {
   "cell_type": "code",
   "execution_count": 365,
   "metadata": {},
   "outputs": [
    {
     "data": {
      "text/plain": [
       "0      543273.0\n",
       "1     2455167.0\n",
       "2      419713.0\n",
       "3     3331859.0\n",
       "4    13367298.0\n",
       "5     1444150.0\n",
       "0     1444150.0\n",
       "1      318031.0\n",
       "2     4195682.0\n",
       "3     3497739.0\n",
       "4      937789.0\n",
       "5     2890732.0\n",
       "0     3057895.0\n",
       "1     3455936.0\n",
       "2     5038598.0\n",
       "Name: female_population, dtype: float64"
      ]
     },
     "execution_count": 365,
     "metadata": {},
     "output_type": "execute_result"
    }
   ],
   "source": [
    "us_census.female_population.head(15)"
   ]
  },
  {
   "cell_type": "markdown",
   "metadata": {},
   "source": [
    "We forgot to check for duplicates! Use .duplicated() on your census DataFrame to see if we have duplicate rows in there."
   ]
  },
  {
   "cell_type": "markdown",
   "metadata": {},
   "source": [
    "## Check for duplicates"
   ]
  },
  {
   "cell_type": "code",
   "execution_count": 366,
   "metadata": {},
   "outputs": [
    {
     "data": {
      "text/plain": [
       "False    46\n",
       "True      8\n",
       "dtype: int64"
      ]
     },
     "execution_count": 366,
     "metadata": {},
     "output_type": "execute_result"
    }
   ],
   "source": [
    "duplicates = us_census.duplicated()\n",
    "duplicates.value_counts()"
   ]
  },
  {
   "cell_type": "markdown",
   "metadata": {},
   "source": [
    "## Drop Dulicate entries"
   ]
  },
  {
   "cell_type": "markdown",
   "metadata": {},
   "source": [
    "Drop those duplicates using the .drop_duplicates() function."
   ]
  },
  {
   "cell_type": "code",
   "execution_count": 367,
   "metadata": {},
   "outputs": [
    {
     "data": {
      "text/plain": [
       "False    46\n",
       "dtype: int64"
      ]
     },
     "execution_count": 367,
     "metadata": {},
     "output_type": "execute_result"
    }
   ],
   "source": [
    "us_census = us_census.drop_duplicates()\n",
    "duplicates_check = us_census.duplicated()\n",
    "duplicates_check.value_counts()"
   ]
  },
  {
   "cell_type": "markdown",
   "metadata": {},
   "source": [
    "Make the scatterplot again. Now, it should be perfect! Your job is secure, for now."
   ]
  },
  {
   "cell_type": "code",
   "execution_count": 368,
   "metadata": {},
   "outputs": [
    {
     "data": {
      "image/png": "[encoded data removed]",
      "text/plain": [
       "<Figure size 432x288 with 1 Axes>"
      ]
     },
     "metadata": {
      "needs_background": "light"
     },
     "output_type": "display_data"
    }
   ],
   "source": [
    "pyplot.scatter(us_census.female_population, us_census.Income) \n",
    "pyplot.show()"
   ]
  },
  {
   "cell_type": "markdown",
   "metadata": {},
   "source": [
    "Now, your boss wants you to make a bunch of histograms out of the race data that you have. Look at the .columns again to see what the race categories are."
   ]
  },
  {
   "cell_type": "code",
   "execution_count": 369,
   "metadata": {},
   "outputs": [
    {
     "data": {
      "text/plain": [
       "Index(['State', 'TotalPop', 'Hispanic', 'White', 'Black', 'Native', 'Asian',\n",
       "       'Pacific', 'Income', 'male_population', 'female_population'],\n",
       "      dtype='object')"
      ]
     },
     "execution_count": 369,
     "metadata": {},
     "output_type": "execute_result"
    }
   ],
   "source": [
    "us_census.columns"
   ]
  },
  {
   "cell_type": "markdown",
   "metadata": {},
   "source": [
    "Try to make a histogram for each one!\n",
    "\n",
    "You will have to get the columns into numerical format, and those percentage signs will have to go.\n",
    "\n",
    "Don’t forget to fill the nan values with something that makes sense! You probably dropped the duplicate rows when making your last graph, but it couldn’t hurt to check for duplicates again."
   ]
  },
  {
   "cell_type": "code",
   "execution_count": 370,
   "metadata": {},
   "outputs": [
    {
     "data": {
      "text/html": [
       "<div>\n",
       "<style scoped>\n",
       "    .dataframe tbody tr th:only-of-type {\n",
       "        vertical-align: middle;\n",
       "    }\n",
       "\n",
       "    .dataframe tbody tr th {\n",
       "        vertical-align: top;\n",
       "    }\n",
       "\n",
       "    .dataframe thead th {\n",
       "        text-align: right;\n",
       "    }\n",
       "</style>\n",
       "<table border=\"1\" class=\"dataframe\">\n",
       "  <thead>\n",
       "    <tr style=\"text-align: right;\">\n",
       "      <th></th>\n",
       "      <th>State</th>\n",
       "      <th>TotalPop</th>\n",
       "      <th>Hispanic</th>\n",
       "      <th>White</th>\n",
       "      <th>Black</th>\n",
       "      <th>Native</th>\n",
       "      <th>Asian</th>\n",
       "      <th>Pacific</th>\n",
       "      <th>Income</th>\n",
       "      <th>male_population</th>\n",
       "      <th>female_population</th>\n",
       "    </tr>\n",
       "  </thead>\n",
       "  <tbody>\n",
       "    <tr>\n",
       "      <th>0</th>\n",
       "      <td>Rhode Island</td>\n",
       "      <td>1053661</td>\n",
       "      <td>13.356666666666678%</td>\n",
       "      <td>74.32541666666665%</td>\n",
       "      <td>5.68291666666667%</td>\n",
       "      <td>0.3462500000000001%</td>\n",
       "      <td>3.2474999999999983%</td>\n",
       "      <td>0.035833333333333335%</td>\n",
       "      <td>59125.270833333336</td>\n",
       "      <td>510388</td>\n",
       "      <td>543273.0</td>\n",
       "    </tr>\n",
       "    <tr>\n",
       "      <th>1</th>\n",
       "      <td>South Carolina</td>\n",
       "      <td>4777576</td>\n",
       "      <td>5.056684981684991%</td>\n",
       "      <td>62.888736263736185%</td>\n",
       "      <td>28.75091575091577%</td>\n",
       "      <td>0.2923992673992673%</td>\n",
       "      <td>1.249175824175822%</td>\n",
       "      <td>0.046978021978021964%</td>\n",
       "      <td>46296.807763401106</td>\n",
       "      <td>2322409</td>\n",
       "      <td>2455167.0</td>\n",
       "    </tr>\n",
       "    <tr>\n",
       "      <th>2</th>\n",
       "      <td>South Dakota</td>\n",
       "      <td>843190</td>\n",
       "      <td>3.2396396396396376%</td>\n",
       "      <td>82.50090090090092%</td>\n",
       "      <td>1.4238738738738752%</td>\n",
       "      <td>9.417567567567566%</td>\n",
       "      <td>1.0193693693693688%</td>\n",
       "      <td>0.04189189189189189%</td>\n",
       "      <td>51805.40540540541</td>\n",
       "      <td>423477</td>\n",
       "      <td>419713.0</td>\n",
       "    </tr>\n",
       "    <tr>\n",
       "      <th>3</th>\n",
       "      <td>Tennessee</td>\n",
       "      <td>6499615</td>\n",
       "      <td>4.720026972353339%</td>\n",
       "      <td>73.49008766014822%</td>\n",
       "      <td>18.283816587997297%</td>\n",
       "      <td>0.22663519892110592%</td>\n",
       "      <td>1.4072825354012126%</td>\n",
       "      <td>0.04315576534052599%</td>\n",
       "      <td>47328.083616587355</td>\n",
       "      <td>3167756</td>\n",
       "      <td>3331859.0</td>\n",
       "    </tr>\n",
       "    <tr>\n",
       "      <th>4</th>\n",
       "      <td>Texas</td>\n",
       "      <td>26538614</td>\n",
       "      <td>38.04673809068304%</td>\n",
       "      <td>44.687908934379145%</td>\n",
       "      <td>11.65004782858236%</td>\n",
       "      <td>0.26114405969007126%</td>\n",
       "      <td>3.6696958102161825%</td>\n",
       "      <td>0.06881576430074614%</td>\n",
       "      <td>55874.522600500095</td>\n",
       "      <td>13171316</td>\n",
       "      <td>13367298.0</td>\n",
       "    </tr>\n",
       "  </tbody>\n",
       "</table>\n",
       "</div>"
      ],
      "text/plain": [
       "            State  TotalPop             Hispanic                White  \\\n",
       "0    Rhode Island   1053661  13.356666666666678%   74.32541666666665%   \n",
       "1  South Carolina   4777576   5.056684981684991%  62.888736263736185%   \n",
       "2    South Dakota    843190  3.2396396396396376%   82.50090090090092%   \n",
       "3       Tennessee   6499615   4.720026972353339%   73.49008766014822%   \n",
       "4           Texas  26538614   38.04673809068304%  44.687908934379145%   \n",
       "\n",
       "                 Black                Native                Asian  \\\n",
       "0    5.68291666666667%   0.3462500000000001%  3.2474999999999983%   \n",
       "1   28.75091575091577%   0.2923992673992673%   1.249175824175822%   \n",
       "2  1.4238738738738752%    9.417567567567566%  1.0193693693693688%   \n",
       "3  18.283816587997297%  0.22663519892110592%  1.4072825354012126%   \n",
       "4   11.65004782858236%  0.26114405969007126%  3.6696958102161825%   \n",
       "\n",
       "                 Pacific              Income  male_population  \\\n",
       "0  0.035833333333333335%  59125.270833333336           510388   \n",
       "1  0.046978021978021964%  46296.807763401106          2322409   \n",
       "2   0.04189189189189189%   51805.40540540541           423477   \n",
       "3   0.04315576534052599%  47328.083616587355          3167756   \n",
       "4   0.06881576430074614%  55874.522600500095         13171316   \n",
       "\n",
       "   female_population  \n",
       "0           543273.0  \n",
       "1          2455167.0  \n",
       "2           419713.0  \n",
       "3          3331859.0  \n",
       "4         13367298.0  "
      ]
     },
     "execution_count": 370,
     "metadata": {},
     "output_type": "execute_result"
    }
   ],
   "source": [
    "us_census.head()"
   ]
  },
  {
   "cell_type": "markdown",
   "metadata": {},
   "source": [
    "## Remove % sign and change data types"
   ]
  },
  {
   "cell_type": "code",
   "execution_count": 371,
   "metadata": {},
   "outputs": [
    {
     "data": {
      "text/html": [
       "<div>\n",
       "<style scoped>\n",
       "    .dataframe tbody tr th:only-of-type {\n",
       "        vertical-align: middle;\n",
       "    }\n",
       "\n",
       "    .dataframe tbody tr th {\n",
       "        vertical-align: top;\n",
       "    }\n",
       "\n",
       "    .dataframe thead th {\n",
       "        text-align: right;\n",
       "    }\n",
       "</style>\n",
       "<table border=\"1\" class=\"dataframe\">\n",
       "  <thead>\n",
       "    <tr style=\"text-align: right;\">\n",
       "      <th></th>\n",
       "      <th>State</th>\n",
       "      <th>TotalPop</th>\n",
       "      <th>Hispanic</th>\n",
       "      <th>White</th>\n",
       "      <th>Black</th>\n",
       "      <th>Native</th>\n",
       "      <th>Asian</th>\n",
       "      <th>Pacific</th>\n",
       "      <th>Income</th>\n",
       "      <th>male_population</th>\n",
       "      <th>female_population</th>\n",
       "    </tr>\n",
       "  </thead>\n",
       "  <tbody>\n",
       "    <tr>\n",
       "      <th>0</th>\n",
       "      <td>Rhode Island</td>\n",
       "      <td>1053661</td>\n",
       "      <td>13.356666666666678</td>\n",
       "      <td>74.32541666666665</td>\n",
       "      <td>5.68291666666667</td>\n",
       "      <td>0.3462500000000001</td>\n",
       "      <td>3.2474999999999983</td>\n",
       "      <td>0.035833333333333335</td>\n",
       "      <td>59125.270833333336</td>\n",
       "      <td>510388</td>\n",
       "      <td>543273.0</td>\n",
       "    </tr>\n",
       "    <tr>\n",
       "      <th>1</th>\n",
       "      <td>South Carolina</td>\n",
       "      <td>4777576</td>\n",
       "      <td>5.056684981684991</td>\n",
       "      <td>62.888736263736185</td>\n",
       "      <td>28.75091575091577</td>\n",
       "      <td>0.2923992673992673</td>\n",
       "      <td>1.249175824175822</td>\n",
       "      <td>0.046978021978021964</td>\n",
       "      <td>46296.807763401106</td>\n",
       "      <td>2322409</td>\n",
       "      <td>2455167.0</td>\n",
       "    </tr>\n",
       "    <tr>\n",
       "      <th>2</th>\n",
       "      <td>South Dakota</td>\n",
       "      <td>843190</td>\n",
       "      <td>3.2396396396396376</td>\n",
       "      <td>82.50090090090092</td>\n",
       "      <td>1.4238738738738752</td>\n",
       "      <td>9.417567567567566</td>\n",
       "      <td>1.0193693693693688</td>\n",
       "      <td>0.04189189189189189</td>\n",
       "      <td>51805.40540540541</td>\n",
       "      <td>423477</td>\n",
       "      <td>419713.0</td>\n",
       "    </tr>\n",
       "    <tr>\n",
       "      <th>3</th>\n",
       "      <td>Tennessee</td>\n",
       "      <td>6499615</td>\n",
       "      <td>4.720026972353339</td>\n",
       "      <td>73.49008766014822</td>\n",
       "      <td>18.283816587997297</td>\n",
       "      <td>0.22663519892110592</td>\n",
       "      <td>1.4072825354012126</td>\n",
       "      <td>0.04315576534052599</td>\n",
       "      <td>47328.083616587355</td>\n",
       "      <td>3167756</td>\n",
       "      <td>3331859.0</td>\n",
       "    </tr>\n",
       "    <tr>\n",
       "      <th>4</th>\n",
       "      <td>Texas</td>\n",
       "      <td>26538614</td>\n",
       "      <td>38.04673809068304</td>\n",
       "      <td>44.687908934379145</td>\n",
       "      <td>11.65004782858236</td>\n",
       "      <td>0.26114405969007126</td>\n",
       "      <td>3.6696958102161825</td>\n",
       "      <td>0.06881576430074614</td>\n",
       "      <td>55874.522600500095</td>\n",
       "      <td>13171316</td>\n",
       "      <td>13367298.0</td>\n",
       "    </tr>\n",
       "  </tbody>\n",
       "</table>\n",
       "</div>"
      ],
      "text/plain": [
       "            State  TotalPop            Hispanic               White  \\\n",
       "0    Rhode Island   1053661  13.356666666666678   74.32541666666665   \n",
       "1  South Carolina   4777576   5.056684981684991  62.888736263736185   \n",
       "2    South Dakota    843190  3.2396396396396376   82.50090090090092   \n",
       "3       Tennessee   6499615   4.720026972353339   73.49008766014822   \n",
       "4           Texas  26538614   38.04673809068304  44.687908934379145   \n",
       "\n",
       "                Black               Native               Asian  \\\n",
       "0    5.68291666666667   0.3462500000000001  3.2474999999999983   \n",
       "1   28.75091575091577   0.2923992673992673   1.249175824175822   \n",
       "2  1.4238738738738752    9.417567567567566  1.0193693693693688   \n",
       "3  18.283816587997297  0.22663519892110592  1.4072825354012126   \n",
       "4   11.65004782858236  0.26114405969007126  3.6696958102161825   \n",
       "\n",
       "                Pacific              Income  male_population  \\\n",
       "0  0.035833333333333335  59125.270833333336           510388   \n",
       "1  0.046978021978021964  46296.807763401106          2322409   \n",
       "2   0.04189189189189189   51805.40540540541           423477   \n",
       "3   0.04315576534052599  47328.083616587355          3167756   \n",
       "4   0.06881576430074614  55874.522600500095         13171316   \n",
       "\n",
       "   female_population  \n",
       "0           543273.0  \n",
       "1          2455167.0  \n",
       "2           419713.0  \n",
       "3          3331859.0  \n",
       "4         13367298.0  "
      ]
     },
     "execution_count": 371,
     "metadata": {},
     "output_type": "execute_result"
    }
   ],
   "source": [
    "us_census.Hispanic = us_census.Hispanic.replace('[\\%]', '', regex=True)\n",
    "us_census.White = us_census.White.replace('[\\%]', '', regex=True)\n",
    "us_census.Black = us_census.Black.replace('[\\%]', '', regex=True)\n",
    "us_census.Native = us_census.Native.replace('[\\%]', '', regex=True)\n",
    "us_census.Asian = us_census.Asian.replace('[\\%]', '', regex=True)\n",
    "us_census.Pacific = us_census.Pacific.replace('[\\%]', '', regex=True)\n",
    "us_census.head()"
   ]
  },
  {
   "cell_type": "code",
   "execution_count": 372,
   "metadata": {},
   "outputs": [
    {
     "data": {
      "text/plain": [
       "State                 object\n",
       "TotalPop               int64\n",
       "Hispanic             float64\n",
       "White                float64\n",
       "Black                float64\n",
       "Native               float64\n",
       "Asian                float64\n",
       "Pacific              float64\n",
       "Income                object\n",
       "male_population        int64\n",
       "female_population    float64\n",
       "dtype: object"
      ]
     },
     "execution_count": 372,
     "metadata": {},
     "output_type": "execute_result"
    }
   ],
   "source": [
    "us_census.Hispanic = pd.to_numeric(us_census.Hispanic)\n",
    "us_census.White = pd.to_numeric(us_census.White)\n",
    "us_census.Black = pd.to_numeric(us_census.Black)\n",
    "us_census.Native = pd.to_numeric(us_census.Native)\n",
    "us_census.Asian = pd.to_numeric(us_census.Asian)\n",
    "us_census.Pacific = pd.to_numeric(us_census.Pacific)\n",
    "us_census.dtypes"
   ]
  },
  {
   "cell_type": "markdown",
   "metadata": {},
   "source": [
    "## Check for NaN values"
   ]
  },
  {
   "cell_type": "code",
   "execution_count": 373,
   "metadata": {},
   "outputs": [],
   "source": [
    "Hnan = us_census.Hispanic.isnull()\n",
    "Wnan = us_census.White.isnull()\n",
    "Bnan = us_census.Black.isnull()\n",
    "Nnan = us_census.Native.isnull()\n",
    "Anan = us_census.Asian.isnull()\n",
    "Pnan = us_census.Pacific.isnull()\n",
    "    "
   ]
  },
  {
   "cell_type": "code",
   "execution_count": 374,
   "metadata": {},
   "outputs": [
    {
     "data": {
      "text/plain": [
       "False    46\n",
       "Name: Hispanic, dtype: int64"
      ]
     },
     "execution_count": 374,
     "metadata": {},
     "output_type": "execute_result"
    }
   ],
   "source": [
    "Hnan.value_counts()"
   ]
  },
  {
   "cell_type": "code",
   "execution_count": 375,
   "metadata": {},
   "outputs": [
    {
     "data": {
      "text/plain": [
       "False    46\n",
       "Name: White, dtype: int64"
      ]
     },
     "execution_count": 375,
     "metadata": {},
     "output_type": "execute_result"
    }
   ],
   "source": [
    "Wnan.value_counts()"
   ]
  },
  {
   "cell_type": "code",
   "execution_count": 376,
   "metadata": {},
   "outputs": [
    {
     "data": {
      "text/plain": [
       "False    46\n",
       "Name: Black, dtype: int64"
      ]
     },
     "execution_count": 376,
     "metadata": {},
     "output_type": "execute_result"
    }
   ],
   "source": [
    "Bnan.value_counts()"
   ]
  },
  {
   "cell_type": "code",
   "execution_count": 377,
   "metadata": {},
   "outputs": [
    {
     "data": {
      "text/plain": [
       "False    46\n",
       "Name: Native, dtype: int64"
      ]
     },
     "execution_count": 377,
     "metadata": {},
     "output_type": "execute_result"
    }
   ],
   "source": [
    "Nnan.value_counts()"
   ]
  },
  {
   "cell_type": "code",
   "execution_count": 378,
   "metadata": {},
   "outputs": [
    {
     "data": {
      "text/plain": [
       "False    46\n",
       "Name: Asian, dtype: int64"
      ]
     },
     "execution_count": 378,
     "metadata": {},
     "output_type": "execute_result"
    }
   ],
   "source": [
    "Anan.value_counts()"
   ]
  },
  {
   "cell_type": "code",
   "execution_count": 379,
   "metadata": {},
   "outputs": [
    {
     "data": {
      "text/plain": [
       "False    42\n",
       "True      4\n",
       "Name: Pacific, dtype: int64"
      ]
     },
     "execution_count": 379,
     "metadata": {},
     "output_type": "execute_result"
    }
   ],
   "source": [
    "Pnan.value_counts() # has 4 nan values we need to get rid of"
   ]
  },
  {
   "cell_type": "markdown",
   "metadata": {},
   "source": [
    "## Work out the best way to replace the NaN values"
   ]
  },
  {
   "cell_type": "markdown",
   "metadata": {},
   "source": [
    "We should be able to find the missing percentage as we have the others and they should all add up to 100%"
   ]
  },
  {
   "cell_type": "code",
   "execution_count": 380,
   "metadata": {},
   "outputs": [],
   "source": [
    "# nan_value = 100 -(us_census.Hispanic + us_census.White + us_census.Black + us_census.Native + us_census.Asian)\n",
    "# us_census.Pacific = us_census.Pacific.fillna(value=nan_value)\n",
    "# us_census.Pacific\n",
    "\n",
    "# After having checked, the mean value of the column seems more realistic."
   ]
  },
  {
   "cell_type": "markdown",
   "metadata": {},
   "source": [
    "```0    0.035833\n",
    "1    0.046978\n",
    "2    0.041892\n",
    "3    0.043156\n",
    "4    0.068816\n",
    "5    0.825983\n",
    "1    0.030601\n",
    "2    0.064715\n",
    "3    0.609896\n",
    "4    0.026446\n",
    "5    0.020833\n",
    "0    0.036285\n",
    "1    0.019809\n",
    "2    0.019549\n",
    "3    0.032909\n",
    "4    0.015046\n",
    "5    0.101657\n",
    "1    0.072222\n",
    "2    0.057143\n",
    "3    0.574521\n",
    "4    0.016096\n",
    "5    0.031319\n",
    "0    0.022645\n",
    "1    0.106220\n",
    "2    0.345333\n",
    "3    0.019394\n",
    "4    0.001240\n",
    "1    0.042771\n",
    "2    0.023451\n",
    "3    0.052326\n",
    "4    1.821463\n",
    "0    0.046602\n",
    "1    8.758861\n",
    "2    0.127181\n",
    "3    0.020032\n",
    "4    0.032625\n",
    "5    0.055164\n",
    "1    2.764474\n",
    "2    0.046438\n",
    "3    0.039184\n",
    "4    0.015670\n",
    "0    2.537842\n",
    "1    0.018599\n",
    "2    2.270093\n",
    "3    0.029609\n",
    "4    0.051510\n",
    "Name: Pacific, dtype: float64```"
   ]
  },
  {
   "cell_type": "code",
   "execution_count": 381,
   "metadata": {},
   "outputs": [],
   "source": [
    "nan_value = us_census.Pacific.mean()\n",
    "us_census.Pacific = us_census.Pacific.fillna(value=nan_value)"
   ]
  },
  {
   "cell_type": "code",
   "execution_count": 382,
   "metadata": {},
   "outputs": [
    {
     "data": {
      "text/plain": [
       "0    0.035833\n",
       "1    0.046978\n",
       "2    0.041892\n",
       "3    0.043156\n",
       "4    0.068816\n",
       "5    0.825983\n",
       "1    0.030601\n",
       "2    0.064715\n",
       "3    0.609896\n",
       "4    0.026446\n",
       "5    0.020833\n",
       "0    0.036285\n",
       "1    0.019809\n",
       "2    0.019549\n",
       "3    0.032909\n",
       "4    0.015046\n",
       "5    0.101657\n",
       "1    0.072222\n",
       "2    0.057143\n",
       "3    0.574521\n",
       "4    0.016096\n",
       "5    0.031319\n",
       "0    0.022645\n",
       "1    0.106220\n",
       "2    0.345333\n",
       "3    0.019394\n",
       "4    0.001240\n",
       "1    0.042771\n",
       "2    0.023451\n",
       "3    0.052326\n",
       "4    0.301109\n",
       "0    0.046602\n",
       "1    8.758861\n",
       "2    0.127181\n",
       "3    0.020032\n",
       "4    0.032625\n",
       "5    0.055164\n",
       "1    0.301109\n",
       "2    0.046438\n",
       "3    0.039184\n",
       "4    0.015670\n",
       "0    0.301109\n",
       "1    0.018599\n",
       "2    0.301109\n",
       "3    0.029609\n",
       "4    0.051510\n",
       "Name: Pacific, dtype: float64"
      ]
     },
     "execution_count": 382,
     "metadata": {},
     "output_type": "execute_result"
    }
   ],
   "source": [
    "us_census.Pacific"
   ]
  },
  {
   "cell_type": "code",
   "execution_count": 391,
   "metadata": {},
   "outputs": [
    {
     "data": {
      "text/html": [
       "<div>\n",
       "<style scoped>\n",
       "    .dataframe tbody tr th:only-of-type {\n",
       "        vertical-align: middle;\n",
       "    }\n",
       "\n",
       "    .dataframe tbody tr th {\n",
       "        vertical-align: top;\n",
       "    }\n",
       "\n",
       "    .dataframe thead th {\n",
       "        text-align: right;\n",
       "    }\n",
       "</style>\n",
       "<table border=\"1\" class=\"dataframe\">\n",
       "  <thead>\n",
       "    <tr style=\"text-align: right;\">\n",
       "      <th></th>\n",
       "      <th>State</th>\n",
       "      <th>TotalPop</th>\n",
       "      <th>Hispanic</th>\n",
       "      <th>White</th>\n",
       "      <th>Black</th>\n",
       "      <th>Native</th>\n",
       "      <th>Asian</th>\n",
       "      <th>Pacific</th>\n",
       "      <th>Income</th>\n",
       "      <th>male_population</th>\n",
       "      <th>female_population</th>\n",
       "    </tr>\n",
       "  </thead>\n",
       "  <tbody>\n",
       "    <tr>\n",
       "      <th>0</th>\n",
       "      <td>Rhode Island</td>\n",
       "      <td>1053661</td>\n",
       "      <td>13.356667</td>\n",
       "      <td>74.325417</td>\n",
       "      <td>5.682917</td>\n",
       "      <td>0.346250</td>\n",
       "      <td>3.247500</td>\n",
       "      <td>0.035833</td>\n",
       "      <td>59125.270833333336</td>\n",
       "      <td>510388</td>\n",
       "      <td>543273.0</td>\n",
       "    </tr>\n",
       "    <tr>\n",
       "      <th>1</th>\n",
       "      <td>South Carolina</td>\n",
       "      <td>4777576</td>\n",
       "      <td>5.056685</td>\n",
       "      <td>62.888736</td>\n",
       "      <td>28.750916</td>\n",
       "      <td>0.292399</td>\n",
       "      <td>1.249176</td>\n",
       "      <td>0.046978</td>\n",
       "      <td>46296.807763401106</td>\n",
       "      <td>2322409</td>\n",
       "      <td>2455167.0</td>\n",
       "    </tr>\n",
       "    <tr>\n",
       "      <th>2</th>\n",
       "      <td>South Dakota</td>\n",
       "      <td>843190</td>\n",
       "      <td>3.239640</td>\n",
       "      <td>82.500901</td>\n",
       "      <td>1.423874</td>\n",
       "      <td>9.417568</td>\n",
       "      <td>1.019369</td>\n",
       "      <td>0.041892</td>\n",
       "      <td>51805.40540540541</td>\n",
       "      <td>423477</td>\n",
       "      <td>419713.0</td>\n",
       "    </tr>\n",
       "    <tr>\n",
       "      <th>3</th>\n",
       "      <td>Tennessee</td>\n",
       "      <td>6499615</td>\n",
       "      <td>4.720027</td>\n",
       "      <td>73.490088</td>\n",
       "      <td>18.283817</td>\n",
       "      <td>0.226635</td>\n",
       "      <td>1.407283</td>\n",
       "      <td>0.043156</td>\n",
       "      <td>47328.083616587355</td>\n",
       "      <td>3167756</td>\n",
       "      <td>3331859.0</td>\n",
       "    </tr>\n",
       "    <tr>\n",
       "      <th>4</th>\n",
       "      <td>Texas</td>\n",
       "      <td>26538614</td>\n",
       "      <td>38.046738</td>\n",
       "      <td>44.687909</td>\n",
       "      <td>11.650048</td>\n",
       "      <td>0.261144</td>\n",
       "      <td>3.669696</td>\n",
       "      <td>0.068816</td>\n",
       "      <td>55874.522600500095</td>\n",
       "      <td>13171316</td>\n",
       "      <td>13367298.0</td>\n",
       "    </tr>\n",
       "  </tbody>\n",
       "</table>\n",
       "</div>"
      ],
      "text/plain": [
       "            State  TotalPop   Hispanic      White      Black    Native  \\\n",
       "0    Rhode Island   1053661  13.356667  74.325417   5.682917  0.346250   \n",
       "1  South Carolina   4777576   5.056685  62.888736  28.750916  0.292399   \n",
       "2    South Dakota    843190   3.239640  82.500901   1.423874  9.417568   \n",
       "3       Tennessee   6499615   4.720027  73.490088  18.283817  0.226635   \n",
       "4           Texas  26538614  38.046738  44.687909  11.650048  0.261144   \n",
       "\n",
       "      Asian   Pacific              Income  male_population  female_population  \n",
       "0  3.247500  0.035833  59125.270833333336           510388           543273.0  \n",
       "1  1.249176  0.046978  46296.807763401106          2322409          2455167.0  \n",
       "2  1.019369  0.041892   51805.40540540541           423477           419713.0  \n",
       "3  1.407283  0.043156  47328.083616587355          3167756          3331859.0  \n",
       "4  3.669696  0.068816  55874.522600500095         13171316         13367298.0  "
      ]
     },
     "execution_count": 391,
     "metadata": {},
     "output_type": "execute_result"
    }
   ],
   "source": [
    "us_census.head()"
   ]
  },
  {
   "cell_type": "markdown",
   "metadata": {},
   "source": [
    "## Plot Histograms "
   ]
  },
  {
   "cell_type": "code",
   "execution_count": 384,
   "metadata": {},
   "outputs": [
    {
     "data": {
      "image/png": "[encoded data removed]",
      "text/plain": [
       "<Figure size 432x288 with 1 Axes>"
      ]
     },
     "metadata": {
      "needs_background": "light"
     },
     "output_type": "display_data"
    }
   ],
   "source": [
    "pyplot.hist(us_census.Hispanic)\n",
    "pyplot.xlabel('Percentage')\n",
    "pyplot.ylabel('Frequency of occurance')\n",
    "pyplot.show()"
   ]
  },
  {
   "cell_type": "code",
   "execution_count": 385,
   "metadata": {},
   "outputs": [
    {
     "data": {
      "image/png": "[encoded data removed]",
      "text/plain": [
       "<Figure size 432x288 with 1 Axes>"
      ]
     },
     "metadata": {
      "needs_background": "light"
     },
     "output_type": "display_data"
    }
   ],
   "source": [
    "pyplot.hist(us_census.White)\n",
    "pyplot.xlabel('Percentage')\n",
    "pyplot.ylabel('Frequency of occurance')\n",
    "pyplot.show()"
   ]
  },
  {
   "cell_type": "code",
   "execution_count": 386,
   "metadata": {},
   "outputs": [
    {
     "data": {
      "image/png": "[encoded data removed]",
      "text/plain": [
       "<Figure size 432x288 with 1 Axes>"
      ]
     },
     "metadata": {
      "needs_background": "light"
     },
     "output_type": "display_data"
    }
   ],
   "source": [
    "pyplot.hist(us_census.Black)\n",
    "pyplot.xlabel('Percentage')\n",
    "pyplot.ylabel('Frequency of occurance')\n",
    "pyplot.show()"
   ]
  },
  {
   "cell_type": "code",
   "execution_count": 387,
   "metadata": {},
   "outputs": [
    {
     "data": {
      "image/png": "[encoded data removed]",
      "text/plain": [
       "<Figure size 432x288 with 1 Axes>"
      ]
     },
     "metadata": {
      "needs_background": "light"
     },
     "output_type": "display_data"
    }
   ],
   "source": [
    "pyplot.hist(us_census.Native)\n",
    "pyplot.xlabel('Percentage')\n",
    "pyplot.ylabel('Frequency of occurance')\n",
    "pyplot.show()"
   ]
  },
  {
   "cell_type": "code",
   "execution_count": 388,
   "metadata": {},
   "outputs": [
    {
     "data": {
      "image/png": "[encoded data removed]",
      "text/plain": [
       "<Figure size 432x288 with 1 Axes>"
      ]
     },
     "metadata": {
      "needs_background": "light"
     },
     "output_type": "display_data"
    }
   ],
   "source": [
    "pyplot.hist(us_census.Asian)\n",
    "pyplot.xlabel('Percentage')\n",
    "pyplot.ylabel('Frequency of occurance')\n",
    "pyplot.show()"
   ]
  },
  {
   "cell_type": "code",
   "execution_count": 389,
   "metadata": {},
   "outputs": [
    {
     "data": {
      "image/png": "[encoded data removed]",
      "text/plain": [
       "<Figure size 432x288 with 1 Axes>"
      ]
     },
     "metadata": {
      "needs_background": "light"
     },
     "output_type": "display_data"
    }
   ],
   "source": [
    "pyplot.hist(us_census.Pacific)\n",
    "pyplot.xlabel('Percentage')\n",
    "pyplot.ylabel('Frequency of occurance')\n",
    "pyplot.show()"
   ]
  }
 ],
 "metadata": {
  "kernelspec": {
   "display_name": "Python 3",
   "language": "python",
   "name": "python3"
  }
 },
 "nbformat": 4,
 "nbformat_minor": 2
}
